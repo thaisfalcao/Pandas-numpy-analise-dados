{
 "cells": [
  {
   "attachments": {},
   "cell_type": "markdown",
   "id": "8030d55b",
   "metadata": {
    "id": "8030d55b"
   },
   "source": [
    "# Projeto Técnicas de programação I\n",
    "\n",
    "## Análise exploratória de dados/Pandas\n",
    "\n",
    "Nomes:  Hevans Vinicius Pereira,\n",
    "        Márcio Magrini,\n",
    "        Thaís Falcão\n",
    "\n",
    "Turma: 970 LM Tech Data Talents\n"
   ]
  },
  {
   "cell_type": "markdown",
   "id": "9d476103",
   "metadata": {
    "id": "9d476103"
   },
   "source": [
    "Nesse projeto trabalharemos com dados fictícios de investidores.\n",
    "\n",
    "São 3 arquivos que devem ser carregados para responder as perguntas abaixo.\n",
    "\n",
    "Para a entrega, coloque o notebook respondido no seu github (um por grupo)!"
   ]
  },
  {
   "cell_type": "markdown",
   "id": "ff348160",
   "metadata": {
    "id": "ff348160"
   },
   "source": [
    "Informações\n",
    "\n",
    "Cadastro:\n",
    "- **id** : Identificação do investidor\n",
    "- **Nome** : Nome completo do investidor \n",
    "- **Sexo** : Feminino ou masculino\n",
    "- **Nasc** : Data de nascimento\n",
    "- **Idade** : Idade do investidor \n",
    "- **Email** : E-mail do investidor\n",
    "- **Lat_long** : Dados geográficos do investidor\n",
    "- **Job** : Profisão do investidor ou do seu responsável (em inglês)\n",
    "- **Estado** : Estado onde o investidor reside\n",
    "\n",
    "Investimento:\n",
    "- **id** : Identificação do investidor\n",
    "- **Salario** : Renda do investidor ou seu responsável\n",
    "- **Perfil** : Perfil de investimento\n",
    "- **Ativo01, Ativo02, Ativo03, Ativo04, Ativo05, Ativo06, Ativo07** : O quanto de dinheiro o investidor colocou em cada ativo\n",
    "- **Nota1, Nota2** : O quanto o investidor está satisfeito com nossa empresa (2 avaliações)\n",
    "\n",
    "Lembrando que esses dados são irreais e fictícios\n"
   ]
  },
  {
   "cell_type": "markdown",
   "id": "2c93ad4b",
   "metadata": {
    "id": "2c93ad4b"
   },
   "source": [
    "Arquivo cadastro.csv\n",
    "\n",
    "\n",
    "Arquivo investimento.csv (dividido em 2 partes)"
   ]
  },
  {
   "cell_type": "markdown",
   "id": "ebdf2a14",
   "metadata": {
    "id": "ebdf2a14"
   },
   "source": [
    "### Critérios de avaliação\n",
    "\n",
    "Os seguintes itens serão avaliados:\n",
    "\n",
    "1. Reprodutibilidade do código: seu código será executado e precisa gerar os mesmos resultados apresentados por você;\n",
    "\n",
    "2. Clareza: seu código precisa ser claro e deve existir uma linha de raciocínio direta. Comente o código em pontos que julgar necessário para o entendimento total;\n",
    "\n",
    "3. Explicação de todos os processos feitos e decisões tomadas\n",
    "\n",
    "## Informações Gerais sobre o Projeto\n",
    "\n",
    "- O projeto poderá ser desenvolvido __individualmente__ ou em __grupos com até 4 pessoas__, caos façam em grupos enviar a relação de alunos do grupo para o professor;\n",
    "\n",
    "\n",
    "- Data de Entrega: 14/04/2023;\n",
    "\n",
    "- Entrega: Através do _Class_\n",
    "\n",
    "\n",
    "\n"
   ]
  },
  {
   "cell_type": "markdown",
   "id": "4ceb5d96",
   "metadata": {
    "id": "4ceb5d96"
   },
   "source": [
    "## 1 - Carregar os arquivos e cadastro, investimento1 e investimento2 e mostrar a quantidade de linhas de cada um, além das informações desses dataframes"
   ]
  },
  {
   "cell_type": "code",
   "execution_count": 1,
   "id": "61c059ab",
   "metadata": {
    "ExecuteTime": {
     "end_time": "2023-04-14T01:24:12.975040Z",
     "start_time": "2023-04-14T01:24:12.082455Z"
    },
    "id": "61c059ab"
   },
   "outputs": [],
   "source": [
    "import pandas as pd"
   ]
  },
  {
   "cell_type": "code",
   "execution_count": 2,
   "id": "aa56add1",
   "metadata": {
    "ExecuteTime": {
     "end_time": "2023-04-14T01:24:13.309154Z",
     "start_time": "2023-04-14T01:24:12.994000Z"
    }
   },
   "outputs": [
    {
     "data": {
      "text/html": [
       "<div>\n",
       "<style scoped>\n",
       "    .dataframe tbody tr th:only-of-type {\n",
       "        vertical-align: middle;\n",
       "    }\n",
       "\n",
       "    .dataframe tbody tr th {\n",
       "        vertical-align: top;\n",
       "    }\n",
       "\n",
       "    .dataframe thead th {\n",
       "        text-align: right;\n",
       "    }\n",
       "</style>\n",
       "<table border=\"1\" class=\"dataframe\">\n",
       "  <thead>\n",
       "    <tr style=\"text-align: right;\">\n",
       "      <th></th>\n",
       "      <th>id</th>\n",
       "      <th>Nome</th>\n",
       "      <th>Sexo</th>\n",
       "      <th>Nasc</th>\n",
       "      <th>Idade</th>\n",
       "      <th>Email</th>\n",
       "      <th>Lat_long</th>\n",
       "      <th>Job</th>\n",
       "      <th>Estado</th>\n",
       "    </tr>\n",
       "  </thead>\n",
       "  <tbody>\n",
       "    <tr>\n",
       "      <th>0</th>\n",
       "      <td>id0000001</td>\n",
       "      <td>Eunice Hellen do Vale</td>\n",
       "      <td>Fem</td>\n",
       "      <td>1970-11-12</td>\n",
       "      <td>51</td>\n",
       "      <td>djones@yahoo.com</td>\n",
       "      <td>(Decimal('24.7024355'), Decimal('-28.038258'))</td>\n",
       "      <td>Technical author</td>\n",
       "      <td>TO</td>\n",
       "    </tr>\n",
       "    <tr>\n",
       "      <th>1</th>\n",
       "      <td>id0000002</td>\n",
       "      <td>Sebastião Castelo Branco Júnior</td>\n",
       "      <td>Masc</td>\n",
       "      <td>2019-12-10</td>\n",
       "      <td>2</td>\n",
       "      <td>barnesandrea@yahoo.com</td>\n",
       "      <td>(Decimal('21.8589875'), Decimal('122.830566'))</td>\n",
       "      <td>Biochemist, clinical</td>\n",
       "      <td>DF</td>\n",
       "    </tr>\n",
       "  </tbody>\n",
       "</table>\n",
       "</div>"
      ],
      "text/plain": [
       "          id                             Nome  Sexo        Nasc  Idade  \\\n",
       "0  id0000001            Eunice Hellen do Vale   Fem  1970-11-12     51   \n",
       "1  id0000002  Sebastião Castelo Branco Júnior  Masc  2019-12-10      2   \n",
       "\n",
       "                    Email                                        Lat_long  \\\n",
       "0        djones@yahoo.com  (Decimal('24.7024355'), Decimal('-28.038258'))   \n",
       "1  barnesandrea@yahoo.com  (Decimal('21.8589875'), Decimal('122.830566'))   \n",
       "\n",
       "                    Job Estado  \n",
       "0      Technical author     TO  \n",
       "1  Biochemist, clinical     DF  "
      ]
     },
     "execution_count": 2,
     "metadata": {},
     "output_type": "execute_result"
    }
   ],
   "source": [
    "# importando o arquivo cadastro.csv e exibindo duas primeiras linhas\n",
    "cadastro = pd.read_csv('cadastro.csv')\n",
    "cadastro.head(2)"
   ]
  },
  {
   "cell_type": "code",
   "execution_count": 3,
   "id": "77db7bdf",
   "metadata": {
    "ExecuteTime": {
     "end_time": "2023-04-14T01:24:13.404208Z",
     "start_time": "2023-04-14T01:24:13.313144Z"
    }
   },
   "outputs": [
    {
     "data": {
      "text/html": [
       "<div>\n",
       "<style scoped>\n",
       "    .dataframe tbody tr th:only-of-type {\n",
       "        vertical-align: middle;\n",
       "    }\n",
       "\n",
       "    .dataframe tbody tr th {\n",
       "        vertical-align: top;\n",
       "    }\n",
       "\n",
       "    .dataframe thead th {\n",
       "        text-align: right;\n",
       "    }\n",
       "</style>\n",
       "<table border=\"1\" class=\"dataframe\">\n",
       "  <thead>\n",
       "    <tr style=\"text-align: right;\">\n",
       "      <th></th>\n",
       "      <th>id</th>\n",
       "      <th>Salario</th>\n",
       "      <th>Perfil</th>\n",
       "      <th>Ativo01</th>\n",
       "      <th>Ativo02</th>\n",
       "      <th>Ativo03</th>\n",
       "      <th>Ativo04</th>\n",
       "      <th>Ativo05</th>\n",
       "      <th>Ativo06</th>\n",
       "      <th>Ativo07</th>\n",
       "      <th>Nota1</th>\n",
       "      <th>Nota2</th>\n",
       "    </tr>\n",
       "  </thead>\n",
       "  <tbody>\n",
       "    <tr>\n",
       "      <th>0</th>\n",
       "      <td>id0011529</td>\n",
       "      <td>$2.25</td>\n",
       "      <td>Agressivo</td>\n",
       "      <td>1311.38</td>\n",
       "      <td>NaN</td>\n",
       "      <td>NaN</td>\n",
       "      <td>29267.48</td>\n",
       "      <td>4993.30</td>\n",
       "      <td>NaN</td>\n",
       "      <td>506.40</td>\n",
       "      <td>73.007216</td>\n",
       "      <td>30.025005</td>\n",
       "    </tr>\n",
       "    <tr>\n",
       "      <th>1</th>\n",
       "      <td>id0030644</td>\n",
       "      <td>$24.57</td>\n",
       "      <td>Agressivo</td>\n",
       "      <td>1007.38</td>\n",
       "      <td>4846.66</td>\n",
       "      <td>2717.82</td>\n",
       "      <td>12532.15</td>\n",
       "      <td>4282.98</td>\n",
       "      <td>NaN</td>\n",
       "      <td>499.93</td>\n",
       "      <td>20.000123</td>\n",
       "      <td>29.477728</td>\n",
       "    </tr>\n",
       "  </tbody>\n",
       "</table>\n",
       "</div>"
      ],
      "text/plain": [
       "          id Salario     Perfil  Ativo01  Ativo02  Ativo03   Ativo04  Ativo05  \\\n",
       "0  id0011529   $2.25  Agressivo  1311.38      NaN      NaN  29267.48  4993.30   \n",
       "1  id0030644  $24.57  Agressivo  1007.38  4846.66  2717.82  12532.15  4282.98   \n",
       "\n",
       "   Ativo06  Ativo07      Nota1      Nota2  \n",
       "0      NaN   506.40  73.007216  30.025005  \n",
       "1      NaN   499.93  20.000123  29.477728  "
      ]
     },
     "execution_count": 3,
     "metadata": {},
     "output_type": "execute_result"
    }
   ],
   "source": [
    "# importando o arquivo investimento_parte1.csv e exibindo duas primeiras linhas\n",
    "invest1 = pd.read_csv('investimento_parte1.csv')\n",
    "invest1.head(2)"
   ]
  },
  {
   "cell_type": "code",
   "execution_count": 4,
   "id": "88eef4a9",
   "metadata": {
    "ExecuteTime": {
     "end_time": "2023-04-14T01:24:13.531945Z",
     "start_time": "2023-04-14T01:24:13.407199Z"
    }
   },
   "outputs": [
    {
     "data": {
      "text/html": [
       "<div>\n",
       "<style scoped>\n",
       "    .dataframe tbody tr th:only-of-type {\n",
       "        vertical-align: middle;\n",
       "    }\n",
       "\n",
       "    .dataframe tbody tr th {\n",
       "        vertical-align: top;\n",
       "    }\n",
       "\n",
       "    .dataframe thead th {\n",
       "        text-align: right;\n",
       "    }\n",
       "</style>\n",
       "<table border=\"1\" class=\"dataframe\">\n",
       "  <thead>\n",
       "    <tr style=\"text-align: right;\">\n",
       "      <th></th>\n",
       "      <th>id</th>\n",
       "      <th>Salario</th>\n",
       "      <th>Perfil</th>\n",
       "      <th>Ativo01</th>\n",
       "      <th>Ativo02</th>\n",
       "      <th>Ativo03</th>\n",
       "      <th>Ativo04</th>\n",
       "      <th>Ativo05</th>\n",
       "      <th>Ativo06</th>\n",
       "      <th>Ativo07</th>\n",
       "      <th>Nota1</th>\n",
       "      <th>Nota2</th>\n",
       "    </tr>\n",
       "  </thead>\n",
       "  <tbody>\n",
       "    <tr>\n",
       "      <th>0</th>\n",
       "      <td>id0000859</td>\n",
       "      <td>$51483.81</td>\n",
       "      <td>Agressivo</td>\n",
       "      <td>1273.95</td>\n",
       "      <td>5080.37</td>\n",
       "      <td>3565.44</td>\n",
       "      <td>NaN</td>\n",
       "      <td>5635.72</td>\n",
       "      <td>NaN</td>\n",
       "      <td>513.38</td>\n",
       "      <td>47.599278</td>\n",
       "      <td>7.057028</td>\n",
       "    </tr>\n",
       "    <tr>\n",
       "      <th>1</th>\n",
       "      <td>id0022202</td>\n",
       "      <td>$457.43</td>\n",
       "      <td>Conservador</td>\n",
       "      <td>1121.09</td>\n",
       "      <td>4927.51</td>\n",
       "      <td>3911.58</td>\n",
       "      <td>5511.7</td>\n",
       "      <td>5593.40</td>\n",
       "      <td>NaN</td>\n",
       "      <td>497.28</td>\n",
       "      <td>37.353757</td>\n",
       "      <td>61.516665</td>\n",
       "    </tr>\n",
       "  </tbody>\n",
       "</table>\n",
       "</div>"
      ],
      "text/plain": [
       "          id    Salario       Perfil  Ativo01  Ativo02  Ativo03  Ativo04  \\\n",
       "0  id0000859  $51483.81    Agressivo  1273.95  5080.37  3565.44      NaN   \n",
       "1  id0022202    $457.43  Conservador  1121.09  4927.51  3911.58   5511.7   \n",
       "\n",
       "   Ativo05  Ativo06  Ativo07      Nota1      Nota2  \n",
       "0  5635.72      NaN   513.38  47.599278   7.057028  \n",
       "1  5593.40      NaN   497.28  37.353757  61.516665  "
      ]
     },
     "execution_count": 4,
     "metadata": {},
     "output_type": "execute_result"
    }
   ],
   "source": [
    "# importando o arquivo investimento_parte2.csv e exibindo duas primeiras linhas\n",
    "invest2 = pd.read_csv('investimento_parte2.csv')\n",
    "invest2.head(2)"
   ]
  },
  {
   "cell_type": "code",
   "execution_count": 5,
   "id": "86913bd6",
   "metadata": {
    "ExecuteTime": {
     "end_time": "2023-04-14T01:24:13.611332Z",
     "start_time": "2023-04-14T01:24:13.538888Z"
    }
   },
   "outputs": [
    {
     "name": "stdout",
     "output_type": "stream",
     "text": [
      "O arquivo cadastro tem 38754 linhas.\n",
      "O arquivo investimento_parte1 tem 20000 linhas.\n",
      "O arquivo investimento_parte2 tem 24052 linhas.\n"
     ]
    }
   ],
   "source": [
    "print(f'O arquivo cadastro tem {cadastro.shape[0]} linhas.')\n",
    "print(f'O arquivo investimento_parte1 tem {invest1.shape[0]} linhas.')\n",
    "print(f'O arquivo investimento_parte2 tem {invest2.shape[0]} linhas.')"
   ]
  },
  {
   "cell_type": "code",
   "execution_count": 6,
   "id": "6c13368b",
   "metadata": {
    "ExecuteTime": {
     "end_time": "2023-04-14T01:24:13.817054Z",
     "start_time": "2023-04-14T01:24:13.616076Z"
    }
   },
   "outputs": [
    {
     "name": "stdout",
     "output_type": "stream",
     "text": [
      "<class 'pandas.core.frame.DataFrame'>\n",
      "RangeIndex: 38754 entries, 0 to 38753\n",
      "Data columns (total 9 columns):\n",
      " #   Column    Non-Null Count  Dtype \n",
      "---  ------    --------------  ----- \n",
      " 0   id        38754 non-null  object\n",
      " 1   Nome      38754 non-null  object\n",
      " 2   Sexo      38754 non-null  object\n",
      " 3   Nasc      38754 non-null  object\n",
      " 4   Idade     38754 non-null  int64 \n",
      " 5   Email     38754 non-null  object\n",
      " 6   Lat_long  38754 non-null  object\n",
      " 7   Job       38754 non-null  object\n",
      " 8   Estado    38754 non-null  object\n",
      "dtypes: int64(1), object(8)\n",
      "memory usage: 2.7+ MB\n"
     ]
    }
   ],
   "source": [
    "# exibindo informações sobre o DataFrame cadastro\n",
    "cadastro.info()"
   ]
  },
  {
   "cell_type": "code",
   "execution_count": 7,
   "id": "410b37de",
   "metadata": {
    "ExecuteTime": {
     "end_time": "2023-04-14T01:24:13.880034Z",
     "start_time": "2023-04-14T01:24:13.821005Z"
    }
   },
   "outputs": [
    {
     "name": "stdout",
     "output_type": "stream",
     "text": [
      "<class 'pandas.core.frame.DataFrame'>\n",
      "RangeIndex: 20000 entries, 0 to 19999\n",
      "Data columns (total 12 columns):\n",
      " #   Column   Non-Null Count  Dtype  \n",
      "---  ------   --------------  -----  \n",
      " 0   id       20000 non-null  object \n",
      " 1   Salario  20000 non-null  object \n",
      " 2   Perfil   20000 non-null  object \n",
      " 3   Ativo01  15012 non-null  float64\n",
      " 4   Ativo02  16857 non-null  float64\n",
      " 5   Ativo03  16760 non-null  float64\n",
      " 6   Ativo04  13799 non-null  float64\n",
      " 7   Ativo05  16829 non-null  float64\n",
      " 8   Ativo06  9895 non-null   float64\n",
      " 9   Ativo07  20000 non-null  float64\n",
      " 10  Nota1    18469 non-null  float64\n",
      " 11  Nota2    18954 non-null  float64\n",
      "dtypes: float64(9), object(3)\n",
      "memory usage: 1.8+ MB\n"
     ]
    }
   ],
   "source": [
    "# exibindo informações sobre o DataFrame invest1\n",
    "invest1.info()"
   ]
  },
  {
   "cell_type": "code",
   "execution_count": 8,
   "id": "1fda2609",
   "metadata": {
    "ExecuteTime": {
     "end_time": "2023-04-14T01:24:14.006929Z",
     "start_time": "2023-04-14T01:24:13.883993Z"
    }
   },
   "outputs": [
    {
     "name": "stdout",
     "output_type": "stream",
     "text": [
      "<class 'pandas.core.frame.DataFrame'>\n",
      "RangeIndex: 24052 entries, 0 to 24051\n",
      "Data columns (total 12 columns):\n",
      " #   Column   Non-Null Count  Dtype  \n",
      "---  ------   --------------  -----  \n",
      " 0   id       24052 non-null  object \n",
      " 1   Salario  24052 non-null  object \n",
      " 2   Perfil   24052 non-null  object \n",
      " 3   Ativo01  17994 non-null  float64\n",
      " 4   Ativo02  20245 non-null  float64\n",
      " 5   Ativo03  20249 non-null  float64\n",
      " 6   Ativo04  16685 non-null  float64\n",
      " 7   Ativo05  20211 non-null  float64\n",
      " 8   Ativo06  11932 non-null  float64\n",
      " 9   Ativo07  24052 non-null  float64\n",
      " 10  Nota1    22172 non-null  float64\n",
      " 11  Nota2    22810 non-null  float64\n",
      "dtypes: float64(9), object(3)\n",
      "memory usage: 2.2+ MB\n"
     ]
    }
   ],
   "source": [
    "# exibindo informações sobre o DataFrame invest2\n",
    "invest2.info()"
   ]
  },
  {
   "cell_type": "markdown",
   "id": "de88ae37",
   "metadata": {
    "id": "de88ae37"
   },
   "source": [
    "## 2 - Juntar os dataframes de investimento1 e investimento2 em um só e ver a quantidade de linhas"
   ]
  },
  {
   "cell_type": "code",
   "execution_count": 9,
   "id": "e2c363da",
   "metadata": {
    "ExecuteTime": {
     "end_time": "2023-04-14T01:24:14.116334Z",
     "start_time": "2023-04-14T01:24:14.010920Z"
    },
    "id": "e2c363da"
   },
   "outputs": [
    {
     "name": "stdout",
     "output_type": "stream",
     "text": [
      "O arquivo investimento_parte1 tem 44052 linhas.\n"
     ]
    }
   ],
   "source": [
    "# concatenando os dois DataFrames\n",
    "invest = pd.concat([invest1, invest2])\n",
    "print(f'O arquivo investimento_parte1 tem {invest.shape[0]} linhas.')"
   ]
  },
  {
   "cell_type": "markdown",
   "id": "05320db1",
   "metadata": {},
   "source": [
    "Pode-se observar que a quantidade de linhas do DataFrame `invest` é a soma das linhas dos DataFrames `invest1` e `invest2`, indicando que os DataFrames foram unidos corretamente."
   ]
  },
  {
   "cell_type": "markdown",
   "id": "9a49fb0d",
   "metadata": {
    "id": "9a49fb0d"
   },
   "source": [
    "## 3 - Crie um novo dataframe eliminando as linhas duplicadas"
   ]
  },
  {
   "cell_type": "code",
   "execution_count": 10,
   "id": "9d26e5d9",
   "metadata": {
    "ExecuteTime": {
     "end_time": "2023-04-14T01:24:14.291166Z",
     "start_time": "2023-04-14T01:24:14.121322Z"
    },
    "id": "9d26e5d9"
   },
   "outputs": [
    {
     "name": "stdout",
     "output_type": "stream",
     "text": [
      "O arquivo investimento_parte1 tem 38754 linhas.\n"
     ]
    }
   ],
   "source": [
    "invest = invest.drop_duplicates()\n",
    "print(f'O arquivo investimento_parte1 tem {invest.shape[0]} linhas.')"
   ]
  },
  {
   "cell_type": "markdown",
   "id": "fb40d3d7",
   "metadata": {
    "ExecuteTime": {
     "end_time": "2023-03-30T02:25:13.983669Z",
     "start_time": "2023-03-30T02:25:13.966714Z"
    }
   },
   "source": [
    "Podemos ver que a quantidade de linhas diminuiu de 44052 para 38754, indicado que havia várias linhas duplicadas."
   ]
  },
  {
   "cell_type": "markdown",
   "id": "d5c4abc4",
   "metadata": {
    "id": "d5c4abc4"
   },
   "source": [
    "## 4 - Junte o dataframe de investimento com o de cadastro\n",
    "Dica: use a chave id"
   ]
  },
  {
   "cell_type": "code",
   "execution_count": 11,
   "id": "f21d58b4",
   "metadata": {
    "ExecuteTime": {
     "end_time": "2023-04-14T01:24:14.465844Z",
     "start_time": "2023-04-14T01:24:14.295155Z"
    },
    "id": "f21d58b4"
   },
   "outputs": [
    {
     "data": {
      "text/html": [
       "<div>\n",
       "<style scoped>\n",
       "    .dataframe tbody tr th:only-of-type {\n",
       "        vertical-align: middle;\n",
       "    }\n",
       "\n",
       "    .dataframe tbody tr th {\n",
       "        vertical-align: top;\n",
       "    }\n",
       "\n",
       "    .dataframe thead th {\n",
       "        text-align: right;\n",
       "    }\n",
       "</style>\n",
       "<table border=\"1\" class=\"dataframe\">\n",
       "  <thead>\n",
       "    <tr style=\"text-align: right;\">\n",
       "      <th></th>\n",
       "      <th>id</th>\n",
       "      <th>Nome</th>\n",
       "      <th>Sexo</th>\n",
       "      <th>Nasc</th>\n",
       "      <th>Idade</th>\n",
       "      <th>Email</th>\n",
       "      <th>Lat_long</th>\n",
       "      <th>Job</th>\n",
       "      <th>Estado</th>\n",
       "      <th>Salario</th>\n",
       "      <th>Perfil</th>\n",
       "      <th>Ativo01</th>\n",
       "      <th>Ativo02</th>\n",
       "      <th>Ativo03</th>\n",
       "      <th>Ativo04</th>\n",
       "      <th>Ativo05</th>\n",
       "      <th>Ativo06</th>\n",
       "      <th>Ativo07</th>\n",
       "      <th>Nota1</th>\n",
       "      <th>Nota2</th>\n",
       "    </tr>\n",
       "  </thead>\n",
       "  <tbody>\n",
       "    <tr>\n",
       "      <th>0</th>\n",
       "      <td>id0000001</td>\n",
       "      <td>Eunice Hellen do Vale</td>\n",
       "      <td>Fem</td>\n",
       "      <td>1970-11-12</td>\n",
       "      <td>51</td>\n",
       "      <td>djones@yahoo.com</td>\n",
       "      <td>(Decimal('24.7024355'), Decimal('-28.038258'))</td>\n",
       "      <td>Technical author</td>\n",
       "      <td>TO</td>\n",
       "      <td>$63.67</td>\n",
       "      <td>Moderado</td>\n",
       "      <td>1174.27</td>\n",
       "      <td>4980.98</td>\n",
       "      <td>2638.24</td>\n",
       "      <td>NaN</td>\n",
       "      <td>4480.91</td>\n",
       "      <td>2329.72</td>\n",
       "      <td>480.72</td>\n",
       "      <td>79.600372</td>\n",
       "      <td>9.802620</td>\n",
       "    </tr>\n",
       "    <tr>\n",
       "      <th>1</th>\n",
       "      <td>id0000002</td>\n",
       "      <td>Sebastião Castelo Branco Júnior</td>\n",
       "      <td>Masc</td>\n",
       "      <td>2019-12-10</td>\n",
       "      <td>2</td>\n",
       "      <td>barnesandrea@yahoo.com</td>\n",
       "      <td>(Decimal('21.8589875'), Decimal('122.830566'))</td>\n",
       "      <td>Biochemist, clinical</td>\n",
       "      <td>DF</td>\n",
       "      <td>$21.96</td>\n",
       "      <td>Moderado</td>\n",
       "      <td>842.12</td>\n",
       "      <td>5646.09</td>\n",
       "      <td>3336.07</td>\n",
       "      <td>NaN</td>\n",
       "      <td>5624.22</td>\n",
       "      <td>2669.98</td>\n",
       "      <td>504.17</td>\n",
       "      <td>44.406893</td>\n",
       "      <td>90.512871</td>\n",
       "    </tr>\n",
       "  </tbody>\n",
       "</table>\n",
       "</div>"
      ],
      "text/plain": [
       "          id                             Nome  Sexo        Nasc  Idade  \\\n",
       "0  id0000001            Eunice Hellen do Vale   Fem  1970-11-12     51   \n",
       "1  id0000002  Sebastião Castelo Branco Júnior  Masc  2019-12-10      2   \n",
       "\n",
       "                    Email                                        Lat_long  \\\n",
       "0        djones@yahoo.com  (Decimal('24.7024355'), Decimal('-28.038258'))   \n",
       "1  barnesandrea@yahoo.com  (Decimal('21.8589875'), Decimal('122.830566'))   \n",
       "\n",
       "                    Job Estado Salario    Perfil  Ativo01  Ativo02  Ativo03  \\\n",
       "0      Technical author     TO  $63.67  Moderado  1174.27  4980.98  2638.24   \n",
       "1  Biochemist, clinical     DF  $21.96  Moderado   842.12  5646.09  3336.07   \n",
       "\n",
       "   Ativo04  Ativo05  Ativo06  Ativo07      Nota1      Nota2  \n",
       "0      NaN  4480.91  2329.72   480.72  79.600372   9.802620  \n",
       "1      NaN  5624.22  2669.98   504.17  44.406893  90.512871  "
      ]
     },
     "execution_count": 11,
     "metadata": {},
     "output_type": "execute_result"
    }
   ],
   "source": [
    "# usando a função merge para juntar os dois DataFrames\n",
    "cad_invest = cadastro.merge(invest, left_on='id', right_on='id')\n",
    "cad_invest.head(2)"
   ]
  },
  {
   "cell_type": "markdown",
   "id": "0ce78c5c",
   "metadata": {
    "ExecuteTime": {
     "end_time": "2021-08-16T13:13:10.973171Z",
     "start_time": "2021-08-16T13:13:10.961165Z"
    },
    "id": "0ce78c5c"
   },
   "source": [
    "## 5 - Ordene o dataframe pelo id, de forma crescente e redefina o índice"
   ]
  },
  {
   "cell_type": "code",
   "execution_count": 12,
   "id": "4d97062c",
   "metadata": {
    "ExecuteTime": {
     "end_time": "2023-04-14T01:24:14.545163Z",
     "start_time": "2023-04-14T01:24:14.469831Z"
    },
    "id": "4d97062c"
   },
   "outputs": [
    {
     "data": {
      "text/html": [
       "<div>\n",
       "<style scoped>\n",
       "    .dataframe tbody tr th:only-of-type {\n",
       "        vertical-align: middle;\n",
       "    }\n",
       "\n",
       "    .dataframe tbody tr th {\n",
       "        vertical-align: top;\n",
       "    }\n",
       "\n",
       "    .dataframe thead th {\n",
       "        text-align: right;\n",
       "    }\n",
       "</style>\n",
       "<table border=\"1\" class=\"dataframe\">\n",
       "  <thead>\n",
       "    <tr style=\"text-align: right;\">\n",
       "      <th></th>\n",
       "      <th>Nome</th>\n",
       "      <th>Sexo</th>\n",
       "      <th>Nasc</th>\n",
       "      <th>Idade</th>\n",
       "      <th>Email</th>\n",
       "      <th>Lat_long</th>\n",
       "      <th>Job</th>\n",
       "      <th>Estado</th>\n",
       "      <th>Salario</th>\n",
       "      <th>Perfil</th>\n",
       "      <th>Ativo01</th>\n",
       "      <th>Ativo02</th>\n",
       "      <th>Ativo03</th>\n",
       "      <th>Ativo04</th>\n",
       "      <th>Ativo05</th>\n",
       "      <th>Ativo06</th>\n",
       "      <th>Ativo07</th>\n",
       "      <th>Nota1</th>\n",
       "      <th>Nota2</th>\n",
       "    </tr>\n",
       "    <tr>\n",
       "      <th>id</th>\n",
       "      <th></th>\n",
       "      <th></th>\n",
       "      <th></th>\n",
       "      <th></th>\n",
       "      <th></th>\n",
       "      <th></th>\n",
       "      <th></th>\n",
       "      <th></th>\n",
       "      <th></th>\n",
       "      <th></th>\n",
       "      <th></th>\n",
       "      <th></th>\n",
       "      <th></th>\n",
       "      <th></th>\n",
       "      <th></th>\n",
       "      <th></th>\n",
       "      <th></th>\n",
       "      <th></th>\n",
       "      <th></th>\n",
       "    </tr>\n",
       "  </thead>\n",
       "  <tbody>\n",
       "    <tr>\n",
       "      <th>id0000001</th>\n",
       "      <td>Eunice Hellen do Vale</td>\n",
       "      <td>Fem</td>\n",
       "      <td>1970-11-12</td>\n",
       "      <td>51</td>\n",
       "      <td>djones@yahoo.com</td>\n",
       "      <td>(Decimal('24.7024355'), Decimal('-28.038258'))</td>\n",
       "      <td>Technical author</td>\n",
       "      <td>TO</td>\n",
       "      <td>$63.67</td>\n",
       "      <td>Moderado</td>\n",
       "      <td>1174.27</td>\n",
       "      <td>4980.98</td>\n",
       "      <td>2638.24</td>\n",
       "      <td>NaN</td>\n",
       "      <td>4480.91</td>\n",
       "      <td>2329.72</td>\n",
       "      <td>480.72</td>\n",
       "      <td>79.600372</td>\n",
       "      <td>9.802620</td>\n",
       "    </tr>\n",
       "    <tr>\n",
       "      <th>id0000002</th>\n",
       "      <td>Sebastião Castelo Branco Júnior</td>\n",
       "      <td>Masc</td>\n",
       "      <td>2019-12-10</td>\n",
       "      <td>2</td>\n",
       "      <td>barnesandrea@yahoo.com</td>\n",
       "      <td>(Decimal('21.8589875'), Decimal('122.830566'))</td>\n",
       "      <td>Biochemist, clinical</td>\n",
       "      <td>DF</td>\n",
       "      <td>$21.96</td>\n",
       "      <td>Moderado</td>\n",
       "      <td>842.12</td>\n",
       "      <td>5646.09</td>\n",
       "      <td>3336.07</td>\n",
       "      <td>NaN</td>\n",
       "      <td>5624.22</td>\n",
       "      <td>2669.98</td>\n",
       "      <td>504.17</td>\n",
       "      <td>44.406893</td>\n",
       "      <td>90.512871</td>\n",
       "    </tr>\n",
       "  </tbody>\n",
       "</table>\n",
       "</div>"
      ],
      "text/plain": [
       "                                      Nome  Sexo        Nasc  Idade  \\\n",
       "id                                                                    \n",
       "id0000001            Eunice Hellen do Vale   Fem  1970-11-12     51   \n",
       "id0000002  Sebastião Castelo Branco Júnior  Masc  2019-12-10      2   \n",
       "\n",
       "                            Email  \\\n",
       "id                                  \n",
       "id0000001        djones@yahoo.com   \n",
       "id0000002  barnesandrea@yahoo.com   \n",
       "\n",
       "                                                 Lat_long  \\\n",
       "id                                                          \n",
       "id0000001  (Decimal('24.7024355'), Decimal('-28.038258'))   \n",
       "id0000002  (Decimal('21.8589875'), Decimal('122.830566'))   \n",
       "\n",
       "                            Job Estado Salario    Perfil  Ativo01  Ativo02  \\\n",
       "id                                                                           \n",
       "id0000001      Technical author     TO  $63.67  Moderado  1174.27  4980.98   \n",
       "id0000002  Biochemist, clinical     DF  $21.96  Moderado   842.12  5646.09   \n",
       "\n",
       "           Ativo03  Ativo04  Ativo05  Ativo06  Ativo07      Nota1      Nota2  \n",
       "id                                                                            \n",
       "id0000001  2638.24      NaN  4480.91  2329.72   480.72  79.600372   9.802620  \n",
       "id0000002  3336.07      NaN  5624.22  2669.98   504.17  44.406893  90.512871  "
      ]
     },
     "execution_count": 12,
     "metadata": {},
     "output_type": "execute_result"
    }
   ],
   "source": [
    "cad_invest.sort_values(by='id', inplace=True)\n",
    "cad_invest.set_index('id', inplace=True)\n",
    "cad_invest.head(2)"
   ]
  },
  {
   "cell_type": "markdown",
   "id": "c22a9a29",
   "metadata": {
    "id": "c22a9a29"
   },
   "source": [
    "## 6 - Faça uma análise dos dados faltantes e trate-os\n",
    "\n",
    "Mostre todas as colunas com dados faltantes, sua quantidade/porcentagem e como tratar (preencher) cada uma delas explicando sua estratégia"
   ]
  },
  {
   "cell_type": "code",
   "execution_count": 13,
   "id": "c4bb5d14",
   "metadata": {
    "ExecuteTime": {
     "end_time": "2023-04-14T01:24:14.782997Z",
     "start_time": "2023-04-14T01:24:14.550135Z"
    },
    "id": "c4bb5d14"
   },
   "outputs": [
    {
     "data": {
      "text/plain": [
       "Nome            0\n",
       "Sexo            0\n",
       "Nasc            0\n",
       "Idade           0\n",
       "Email           0\n",
       "Lat_long        0\n",
       "Job             0\n",
       "Estado          0\n",
       "Salario         0\n",
       "Perfil          0\n",
       "Ativo01      9724\n",
       "Ativo02      6100\n",
       "Ativo03      6169\n",
       "Ativo04     11887\n",
       "Ativo05      6191\n",
       "Ativo06     19514\n",
       "Ativo07         0\n",
       "Nota1        3000\n",
       "Nota2        2000\n",
       "dtype: int64"
      ]
     },
     "execution_count": 13,
     "metadata": {},
     "output_type": "execute_result"
    }
   ],
   "source": [
    "# vendo quantidade absoluta de dados faltantes por coluna\n",
    "cad_invest.isnull().sum()"
   ]
  },
  {
   "cell_type": "code",
   "execution_count": 14,
   "id": "d8d0b4be",
   "metadata": {
    "ExecuteTime": {
     "end_time": "2023-04-14T01:24:14.910638Z",
     "start_time": "2023-04-14T01:24:14.823832Z"
    }
   },
   "outputs": [
    {
     "data": {
      "text/plain": [
       "Nome        0.000000\n",
       "Sexo        0.000000\n",
       "Nasc        0.000000\n",
       "Idade       0.000000\n",
       "Email       0.000000\n",
       "Lat_long    0.000000\n",
       "Job         0.000000\n",
       "Estado      0.000000\n",
       "Salario     0.000000\n",
       "Perfil      0.000000\n",
       "Ativo01     0.250916\n",
       "Ativo02     0.157403\n",
       "Ativo03     0.159184\n",
       "Ativo04     0.306730\n",
       "Ativo05     0.159751\n",
       "Ativo06     0.503535\n",
       "Ativo07     0.000000\n",
       "Nota1       0.077411\n",
       "Nota2       0.051608\n",
       "dtype: float64"
      ]
     },
     "execution_count": 14,
     "metadata": {},
     "output_type": "execute_result"
    }
   ],
   "source": [
    "# vendo quantidade percentual de dados faltantes por coluna\n",
    "cad_invest.isna().sum() / cad_invest.shape[0]"
   ]
  },
  {
   "cell_type": "markdown",
   "id": "82748466",
   "metadata": {},
   "source": [
    "Para decidir como preencher os dados faltantes de cada coluna, precisamos conhecer as características de cada uma delas, pois a quantidade e o tipo de dado vai influenciar na escolha da técnica utilizada.\n",
    "\n",
    "As variáveis `Nota1` e `Nota2` apresentam um percentual muito baixo de dados faltantes e, em alguns casos, é possível descartar essas observações, especialmente se tivermos muitas observações no banco de dados. Por motivos didáticos, vamos tentar não descartar nenhum dado.\n",
    "\n",
    "\n",
    "Nas colunas de ativos, poderíamos considerar que os dados faltantes indicam que não houve investimento e, neste caso, deveríamos preencher esses dados faltantes por zero. No entanto, neste trabalho vamos considerar que houve investimento mas por algum outro motivo esses valores não estão disponíveis e, por isso, olharemos para a distribuição das variáveis para fazer o preenchimento dos valores."
   ]
  },
  {
   "cell_type": "markdown",
   "id": "566f592f",
   "metadata": {},
   "source": [
    "### `Ativo01`"
   ]
  },
  {
   "cell_type": "code",
   "execution_count": 15,
   "id": "80cc64f4",
   "metadata": {
    "ExecuteTime": {
     "end_time": "2023-04-14T01:24:15.116332Z",
     "start_time": "2023-04-14T01:24:14.915584Z"
    }
   },
   "outputs": [
    {
     "data": {
      "text/plain": [
       "count    29030.00000\n",
       "mean      1128.33930\n",
       "std        218.82271\n",
       "min        800.01000\n",
       "25%        955.08500\n",
       "50%       1095.51000\n",
       "75%       1268.21250\n",
       "max       2143.05000\n",
       "Name: Ativo01, dtype: float64"
      ]
     },
     "execution_count": 15,
     "metadata": {},
     "output_type": "execute_result"
    }
   ],
   "source": [
    "# calculando algumas estatísticas descritivas\n",
    "cad_invest['Ativo01'].describe()"
   ]
  },
  {
   "cell_type": "markdown",
   "id": "42efb3f0",
   "metadata": {},
   "source": [
    "Note que o valor mínimo está relativamente próximo do primeiro quartil, e a mesma distância ocorre do primeiro quartil até o segundo quartil, assim como do segundo quartil para o terceiro, mas do terceiro para o valor máximo há uma diferença bastante grande, indicando assimetria dos dados.\n",
    "\n",
    "Apenas a observação dos número pode ser difícil de interpretar, portanto vamos fazer um histograma para ter uma ideia geral da distribuição dos valores."
   ]
  },
  {
   "cell_type": "code",
   "execution_count": 16,
   "id": "332db04c",
   "metadata": {
    "ExecuteTime": {
     "end_time": "2023-04-14T01:24:25.622182Z",
     "start_time": "2023-04-14T01:24:15.119324Z"
    }
   },
   "outputs": [
    {
     "data": {
      "image/png": "[encoded data removed]",
      "text/plain": [
       "<Figure size 640x480 with 1 Axes>"
      ]
     },
     "metadata": {},
     "output_type": "display_data"
    }
   ],
   "source": [
    "# importando seaborn\n",
    "import seaborn as sns\n",
    "\n",
    "# fazendo um histograma\n",
    "sns.histplot(data=cad_invest, x='Ativo01');"
   ]
  },
  {
   "cell_type": "markdown",
   "id": "2f77f033",
   "metadata": {},
   "source": [
    "Podemos ver que a distribuição dos dados é assimétrica à direita. Portanto, não podemos usar a média para fazer a imputação, pois os valores extremos à direita tornam a média uma medida que não representa adequadamente os dados. Nesse caso, podemos podemos preencher os dados faltantes com a mediana."
   ]
  },
  {
   "cell_type": "code",
   "execution_count": 17,
   "id": "70cc5049",
   "metadata": {
    "ExecuteTime": {
     "end_time": "2023-04-14T01:24:25.638096Z",
     "start_time": "2023-04-14T01:24:25.626129Z"
    }
   },
   "outputs": [],
   "source": [
    "# calculando a mediana\n",
    "mediana_ativo1 = cad_invest['Ativo01'].median()\n",
    "\n",
    "# preenchendo os dados com a mediana\n",
    "cad_invest['Ativo01'].fillna(mediana_ativo1, inplace=True)"
   ]
  },
  {
   "cell_type": "markdown",
   "id": "f76ed20f",
   "metadata": {},
   "source": [
    "### `Ativo02`"
   ]
  },
  {
   "cell_type": "code",
   "execution_count": 18,
   "id": "b53b2b53",
   "metadata": {
    "ExecuteTime": {
     "end_time": "2023-04-14T01:24:25.778763Z",
     "start_time": "2023-04-14T01:24:25.642086Z"
    }
   },
   "outputs": [
    {
     "data": {
      "text/plain": [
       "count    32654.000000\n",
       "mean      5147.296098\n",
       "std        398.676500\n",
       "min       4500.050000\n",
       "25%       4832.480000\n",
       "50%       5103.425000\n",
       "75%       5408.532500\n",
       "max       6990.260000\n",
       "Name: Ativo02, dtype: float64"
      ]
     },
     "execution_count": 18,
     "metadata": {},
     "output_type": "execute_result"
    }
   ],
   "source": [
    "# calculando algumas estatísticas descritivas\n",
    "cad_invest['Ativo02'].describe()"
   ]
  },
  {
   "cell_type": "code",
   "execution_count": 19,
   "id": "56b79731",
   "metadata": {
    "ExecuteTime": {
     "end_time": "2023-04-14T01:24:26.365160Z",
     "start_time": "2023-04-14T01:24:25.784749Z"
    }
   },
   "outputs": [
    {
     "data": {
      "image/png": "[encoded data removed]",
      "text/plain": [
       "<Figure size 640x480 with 1 Axes>"
      ]
     },
     "metadata": {},
     "output_type": "display_data"
    }
   ],
   "source": [
    "# fazendo um histograma\n",
    "sns.histplot(data=cad_invest, x='Ativo02');"
   ]
  },
  {
   "cell_type": "markdown",
   "id": "e8d1e61a",
   "metadata": {},
   "source": [
    "A variável `Ativo02` também é assimétrica à direita, portanto vamos preencher os dados faltantes com a mediana."
   ]
  },
  {
   "cell_type": "code",
   "execution_count": 20,
   "id": "c8ac5992",
   "metadata": {
    "ExecuteTime": {
     "end_time": "2023-04-14T01:24:26.381155Z",
     "start_time": "2023-04-14T01:24:26.371142Z"
    }
   },
   "outputs": [],
   "source": [
    "# calculando a mediana\n",
    "mediana_ativo2 = cad_invest['Ativo02'].median()\n",
    "\n",
    "# preenchendo os dados com a mediana\n",
    "cad_invest['Ativo02'].fillna(mediana_ativo2, inplace=True)"
   ]
  },
  {
   "cell_type": "markdown",
   "id": "5df65c1f",
   "metadata": {},
   "source": [
    "### `Ativo03`"
   ]
  },
  {
   "cell_type": "code",
   "execution_count": 21,
   "id": "6adf0166",
   "metadata": {
    "ExecuteTime": {
     "end_time": "2023-04-14T01:24:26.599277Z",
     "start_time": "2023-04-14T01:24:26.385105Z"
    }
   },
   "outputs": [
    {
     "data": {
      "text/plain": [
       "count    32585.000000\n",
       "mean      3140.418931\n",
       "std        395.714600\n",
       "min       2500.010000\n",
       "25%       2828.570000\n",
       "50%       3096.080000\n",
       "75%       3400.010000\n",
       "max       5212.550000\n",
       "Name: Ativo03, dtype: float64"
      ]
     },
     "execution_count": 21,
     "metadata": {},
     "output_type": "execute_result"
    }
   ],
   "source": [
    "# calculando algumas estatísticas descritivas\n",
    "cad_invest['Ativo03'].describe()"
   ]
  },
  {
   "cell_type": "code",
   "execution_count": 22,
   "id": "4a783b9d",
   "metadata": {
    "ExecuteTime": {
     "end_time": "2023-04-14T01:24:27.151352Z",
     "start_time": "2023-04-14T01:24:26.603270Z"
    }
   },
   "outputs": [
    {
     "data": {
      "image/png": "[encoded data removed]",
      "text/plain": [
       "<Figure size 640x480 with 1 Axes>"
      ]
     },
     "metadata": {},
     "output_type": "display_data"
    }
   ],
   "source": [
    "# fazendo um histograma\n",
    "sns.histplot(data=cad_invest, x='Ativo03');"
   ]
  },
  {
   "cell_type": "markdown",
   "id": "37bac0b1",
   "metadata": {},
   "source": [
    "A variável `Ativo03` também é assimétrica à direita, portanto vamos preencher os dados faltantes com a mediana."
   ]
  },
  {
   "cell_type": "code",
   "execution_count": 23,
   "id": "fe6fcf69",
   "metadata": {
    "ExecuteTime": {
     "end_time": "2023-04-14T01:24:27.167345Z",
     "start_time": "2023-04-14T01:24:27.155342Z"
    }
   },
   "outputs": [],
   "source": [
    "# calculando a mediana\n",
    "mediana_ativo3 = cad_invest['Ativo03'].median()\n",
    "\n",
    "# preenchendo os dados com a mediana\n",
    "cad_invest['Ativo03'].fillna(mediana_ativo3, inplace=True)"
   ]
  },
  {
   "cell_type": "markdown",
   "id": "4877ad88",
   "metadata": {},
   "source": [
    "### `Ativo04`"
   ]
  },
  {
   "cell_type": "code",
   "execution_count": 24,
   "id": "ded54272",
   "metadata": {
    "ExecuteTime": {
     "end_time": "2023-04-14T01:24:27.371391Z",
     "start_time": "2023-04-14T01:24:27.171300Z"
    }
   },
   "outputs": [
    {
     "data": {
      "text/plain": [
       "count    26867.000000\n",
       "mean     15153.681742\n",
       "std       6972.128306\n",
       "min       5000.810000\n",
       "25%       9649.585000\n",
       "50%      14066.760000\n",
       "75%      19486.690000\n",
       "max      48744.740000\n",
       "Name: Ativo04, dtype: float64"
      ]
     },
     "execution_count": 24,
     "metadata": {},
     "output_type": "execute_result"
    }
   ],
   "source": [
    "# calculando algumas estatísticas descritivas\n",
    "cad_invest['Ativo04'].describe()"
   ]
  },
  {
   "cell_type": "code",
   "execution_count": 25,
   "id": "fd2b7ec7",
   "metadata": {
    "ExecuteTime": {
     "end_time": "2023-04-14T01:24:27.846522Z",
     "start_time": "2023-04-14T01:24:27.375388Z"
    }
   },
   "outputs": [
    {
     "data": {
      "image/png": "[encoded data removed]",
      "text/plain": [
       "<Figure size 640x480 with 1 Axes>"
      ]
     },
     "metadata": {},
     "output_type": "display_data"
    }
   ],
   "source": [
    "# fazendo um histograma\n",
    "sns.histplot(data=cad_invest, x='Ativo04');"
   ]
  },
  {
   "cell_type": "markdown",
   "id": "8f79b110",
   "metadata": {},
   "source": [
    "A variável `Ativo04` também é assimétrica à direita, portanto vamos preencher os dados faltantes com a mediana."
   ]
  },
  {
   "cell_type": "code",
   "execution_count": 26,
   "id": "252ea275",
   "metadata": {
    "ExecuteTime": {
     "end_time": "2023-04-14T01:24:27.862811Z",
     "start_time": "2023-04-14T01:24:27.850269Z"
    }
   },
   "outputs": [],
   "source": [
    "# calculando a mediana\n",
    "mediana_ativo4 = cad_invest['Ativo04'].median()\n",
    "\n",
    "# preenchendo os dados com a mediana\n",
    "cad_invest['Ativo04'].fillna(mediana_ativo4, inplace=True)"
   ]
  },
  {
   "cell_type": "markdown",
   "id": "16a34200",
   "metadata": {},
   "source": [
    "### `Ativo05`"
   ]
  },
  {
   "cell_type": "code",
   "execution_count": 27,
   "id": "6b751d87",
   "metadata": {
    "ExecuteTime": {
     "end_time": "2023-04-14T01:24:28.004776Z",
     "start_time": "2023-04-14T01:24:27.865844Z"
    }
   },
   "outputs": [
    {
     "data": {
      "text/plain": [
       "count    32563.000000\n",
       "mean      5284.120661\n",
       "std        795.181272\n",
       "min       4000.140000\n",
       "25%       4654.915000\n",
       "50%       5198.420000\n",
       "75%       5802.385000\n",
       "max       9052.260000\n",
       "Name: Ativo05, dtype: float64"
      ]
     },
     "execution_count": 27,
     "metadata": {},
     "output_type": "execute_result"
    }
   ],
   "source": [
    "# calculando algumas estatísticas descritivas\n",
    "cad_invest['Ativo05'].describe()"
   ]
  },
  {
   "cell_type": "code",
   "execution_count": 28,
   "id": "f5eaae31",
   "metadata": {
    "ExecuteTime": {
     "end_time": "2023-04-14T01:24:28.525325Z",
     "start_time": "2023-04-14T01:24:28.010758Z"
    }
   },
   "outputs": [
    {
     "data": {
      "image/png": "[encoded data removed]",
      "text/plain": [
       "<Figure size 640x480 with 1 Axes>"
      ]
     },
     "metadata": {},
     "output_type": "display_data"
    }
   ],
   "source": [
    "# fazendo um histograma\n",
    "sns.histplot(data=cad_invest, x='Ativo05');"
   ]
  },
  {
   "cell_type": "markdown",
   "id": "628c54d3",
   "metadata": {
    "ExecuteTime": {
     "end_time": "2023-03-30T02:56:56.745142Z",
     "start_time": "2023-03-30T02:56:56.685304Z"
    }
   },
   "source": [
    "A variável `Ativo05` também é assimétrica à direita, portanto vamos preencher os dados faltantes com a mediana."
   ]
  },
  {
   "cell_type": "code",
   "execution_count": 29,
   "id": "73f22950",
   "metadata": {
    "ExecuteTime": {
     "end_time": "2023-04-14T01:24:28.541728Z",
     "start_time": "2023-04-14T01:24:28.529355Z"
    }
   },
   "outputs": [],
   "source": [
    "# calculando a mediana\n",
    "mediana_ativo5 = cad_invest['Ativo05'].median()\n",
    "\n",
    "# preenchendo os dados com a mediana\n",
    "cad_invest['Ativo05'].fillna(mediana_ativo5, inplace=True)"
   ]
  },
  {
   "cell_type": "markdown",
   "id": "66f3c9df",
   "metadata": {},
   "source": [
    "### `Ativo06`"
   ]
  },
  {
   "cell_type": "code",
   "execution_count": 30,
   "id": "7aef5e77",
   "metadata": {
    "ExecuteTime": {
     "end_time": "2023-04-14T01:24:28.730872Z",
     "start_time": "2023-04-14T01:24:28.545269Z"
    }
   },
   "outputs": [
    {
     "data": {
      "text/plain": [
       "count    19240.000000\n",
       "mean      2319.482555\n",
       "std        240.669641\n",
       "min       2000.040000\n",
       "25%       2128.680000\n",
       "50%       2271.385000\n",
       "75%       2460.852500\n",
       "max       3639.650000\n",
       "Name: Ativo06, dtype: float64"
      ]
     },
     "execution_count": 30,
     "metadata": {},
     "output_type": "execute_result"
    }
   ],
   "source": [
    "# calculando algumas estatísticas descritivas\n",
    "cad_invest['Ativo06'].describe()"
   ]
  },
  {
   "cell_type": "code",
   "execution_count": 31,
   "id": "62397a64",
   "metadata": {
    "ExecuteTime": {
     "end_time": "2023-04-14T01:24:29.175014Z",
     "start_time": "2023-04-14T01:24:28.733677Z"
    }
   },
   "outputs": [
    {
     "data": {
      "image/png": "[encoded data removed]",
      "text/plain": [
       "<Figure size 640x480 with 1 Axes>"
      ]
     },
     "metadata": {},
     "output_type": "display_data"
    }
   ],
   "source": [
    "# fazendo um histograma\n",
    "sns.histplot(data=cad_invest, x='Ativo06');"
   ]
  },
  {
   "cell_type": "markdown",
   "id": "97f5be5e",
   "metadata": {},
   "source": [
    "A variável `Ativo06` também é assimétrica à direita, portanto vamos preencher os dados faltantes com a mediana."
   ]
  },
  {
   "cell_type": "code",
   "execution_count": 32,
   "id": "5dc69d4b",
   "metadata": {
    "ExecuteTime": {
     "end_time": "2023-04-14T01:24:29.191004Z",
     "start_time": "2023-04-14T01:24:29.178005Z"
    }
   },
   "outputs": [],
   "source": [
    "# calculando a mediana\n",
    "mediana_ativo6 = cad_invest['Ativo06'].median()\n",
    "\n",
    "# preenchendo os dados com a mediana\n",
    "cad_invest['Ativo06'].fillna(mediana_ativo6, inplace=True)"
   ]
  },
  {
   "cell_type": "markdown",
   "id": "3d122be6",
   "metadata": {},
   "source": [
    "### `Nota1`"
   ]
  },
  {
   "cell_type": "code",
   "execution_count": 33,
   "id": "4756dbb1",
   "metadata": {
    "ExecuteTime": {
     "end_time": "2023-04-14T01:24:29.285642Z",
     "start_time": "2023-04-14T01:24:29.194959Z"
    }
   },
   "outputs": [
    {
     "data": {
      "text/plain": [
       "count    35754.000000\n",
       "mean        49.821094\n",
       "std         28.899854\n",
       "min          0.003143\n",
       "25%         24.856973\n",
       "50%         49.584430\n",
       "75%         74.949831\n",
       "max         99.996659\n",
       "Name: Nota1, dtype: float64"
      ]
     },
     "execution_count": 33,
     "metadata": {},
     "output_type": "execute_result"
    }
   ],
   "source": [
    "# calculando algumas estatísticas descritivas\n",
    "cad_invest['Nota1'].describe()"
   ]
  },
  {
   "cell_type": "code",
   "execution_count": 34,
   "id": "0e6e942c",
   "metadata": {
    "ExecuteTime": {
     "end_time": "2023-04-14T01:24:29.715082Z",
     "start_time": "2023-04-14T01:24:29.289597Z"
    }
   },
   "outputs": [
    {
     "data": {
      "image/png": "[encoded data removed]",
      "text/plain": [
       "<Figure size 640x480 with 1 Axes>"
      ]
     },
     "metadata": {},
     "output_type": "display_data"
    }
   ],
   "source": [
    "# fazendo um histograma\n",
    "sns.histplot(data=cad_invest, x='Nota1');"
   ]
  },
  {
   "cell_type": "markdown",
   "id": "78b83979",
   "metadata": {},
   "source": [
    "A variável `Nota1` apresenta uma distribuição de dados aproximadamente uniforme, neste caso a média, a moda e a mediana serão valores similares e o preenchimento dos dados faltantes pode ser feito por qualquer um desses valores, vamos usar a média apenas para usar algo diferente dos casos anteriores."
   ]
  },
  {
   "cell_type": "code",
   "execution_count": 35,
   "id": "8fbe35e7",
   "metadata": {
    "ExecuteTime": {
     "end_time": "2023-04-14T01:24:29.730331Z",
     "start_time": "2023-04-14T01:24:29.719074Z"
    }
   },
   "outputs": [],
   "source": [
    "# calculando a media\n",
    "media_nota1 = cad_invest['Nota1'].mean()\n",
    "\n",
    "# preenchendo os dados com a media\n",
    "cad_invest['Nota1'].fillna(media_nota1, inplace=True)"
   ]
  },
  {
   "cell_type": "markdown",
   "id": "979a1a0e",
   "metadata": {},
   "source": [
    "### `Nota2`"
   ]
  },
  {
   "cell_type": "code",
   "execution_count": 36,
   "id": "9ae7e673",
   "metadata": {
    "ExecuteTime": {
     "end_time": "2023-04-14T01:24:29.887372Z",
     "start_time": "2023-04-14T01:24:29.734326Z"
    }
   },
   "outputs": [
    {
     "data": {
      "text/plain": [
       "count    36754.000000\n",
       "mean        50.075481\n",
       "std         28.863426\n",
       "min          0.003341\n",
       "25%         25.116931\n",
       "50%         50.064592\n",
       "75%         75.024430\n",
       "max         99.999535\n",
       "Name: Nota2, dtype: float64"
      ]
     },
     "execution_count": 36,
     "metadata": {},
     "output_type": "execute_result"
    }
   ],
   "source": [
    "# calculando algumas estatísticas descritivas\n",
    "cad_invest['Nota2'].describe()"
   ]
  },
  {
   "cell_type": "code",
   "execution_count": 37,
   "id": "68b10726",
   "metadata": {
    "ExecuteTime": {
     "end_time": "2023-04-14T01:24:30.408614Z",
     "start_time": "2023-04-14T01:24:29.892365Z"
    }
   },
   "outputs": [
    {
     "data": {
      "image/png": "[encoded data removed]",
      "text/plain": [
       "<Figure size 640x480 with 1 Axes>"
      ]
     },
     "metadata": {},
     "output_type": "display_data"
    }
   ],
   "source": [
    "# fazendo um histograma\n",
    "sns.histplot(data=cad_invest, x='Nota2');"
   ]
  },
  {
   "cell_type": "markdown",
   "id": "9b72693b",
   "metadata": {},
   "source": [
    "A variável `Nota2` também apresenta uma distribuição de dados aproximadamente uniforme, então vamos usar a média para preencher os dados faltantes."
   ]
  },
  {
   "cell_type": "code",
   "execution_count": 38,
   "id": "6f73132a",
   "metadata": {
    "ExecuteTime": {
     "end_time": "2023-04-14T01:24:30.424596Z",
     "start_time": "2023-04-14T01:24:30.412565Z"
    }
   },
   "outputs": [],
   "source": [
    "# calculando a mediana\n",
    "media_nota2 = cad_invest['Nota2'].mean()\n",
    "\n",
    "# preenchendo os dados com a mediana\n",
    "cad_invest['Nota2'].fillna(media_nota2, inplace=True)"
   ]
  },
  {
   "cell_type": "markdown",
   "id": "1ace9b4e",
   "metadata": {},
   "source": [
    "Vamos verificar se restou algum dado faltante."
   ]
  },
  {
   "cell_type": "code",
   "execution_count": 39,
   "id": "b4a4e834",
   "metadata": {
    "ExecuteTime": {
     "end_time": "2023-04-14T01:24:30.627629Z",
     "start_time": "2023-04-14T01:24:30.427524Z"
    }
   },
   "outputs": [
    {
     "data": {
      "text/plain": [
       "Nome        0\n",
       "Sexo        0\n",
       "Nasc        0\n",
       "Idade       0\n",
       "Email       0\n",
       "Lat_long    0\n",
       "Job         0\n",
       "Estado      0\n",
       "Salario     0\n",
       "Perfil      0\n",
       "Ativo01     0\n",
       "Ativo02     0\n",
       "Ativo03     0\n",
       "Ativo04     0\n",
       "Ativo05     0\n",
       "Ativo06     0\n",
       "Ativo07     0\n",
       "Nota1       0\n",
       "Nota2       0\n",
       "dtype: int64"
      ]
     },
     "execution_count": 39,
     "metadata": {},
     "output_type": "execute_result"
    }
   ],
   "source": [
    "cad_invest.isnull().sum()"
   ]
  },
  {
   "cell_type": "markdown",
   "id": "171439b8",
   "metadata": {},
   "source": [
    "Podemos ver que aparentemente não há mais nenhum dado faltante, mas ainda precisamos tomar cuidado. Observe as estatísticas descritivas da coluna `Idade`."
   ]
  },
  {
   "cell_type": "code",
   "execution_count": 40,
   "id": "67bb129c",
   "metadata": {
    "ExecuteTime": {
     "end_time": "2023-04-14T01:24:30.706023Z",
     "start_time": "2023-04-14T01:24:30.632616Z"
    }
   },
   "outputs": [
    {
     "data": {
      "text/plain": [
       "count    38754.000000\n",
       "mean        25.716855\n",
       "std         14.918449\n",
       "min          0.000000\n",
       "25%         13.000000\n",
       "50%         26.000000\n",
       "75%         39.000000\n",
       "max         51.000000\n",
       "Name: Idade, dtype: float64"
      ]
     },
     "execution_count": 40,
     "metadata": {},
     "output_type": "execute_result"
    }
   ],
   "source": [
    "cad_invest['Idade'].describe()"
   ]
  },
  {
   "cell_type": "markdown",
   "id": "50aa5f28",
   "metadata": {},
   "source": [
    "Podemos ver que há uma quantidade significativa de idades abaixo de 18 anos, o que configura problemas na base caso menores de idade não possam fazer investimentos nesse cenário. Em algumas situações podem ter deixado que crianças tenham investimentos feitos em seus nomes. Neste caso, temos que checar com a área de negócio se os dados estão corretos ou há algum erro de preenchimento. Idade igual a zero pode ser uma forma de dado faltante que foi codificado dessa forma. \n",
    "\n",
    "Iremos considerar que os valores estão corretos, isto é, que é possível investir com qualquer idade.\n",
    "\n",
    "Esse tipo de análise deve ser feita para evitar problemas na base de dados."
   ]
  },
  {
   "cell_type": "markdown",
   "id": "85ae4e81",
   "metadata": {
    "id": "85ae4e81"
   },
   "source": [
    "## 7 - Manipule os dados a seguir:\n",
    "- Criar coluna \"Total\" somando o valor de todos os ativos por investidor\n",
    "- Criar coluna \"Media\" com a média das notas 1 e 2\n",
    "- Criar coluna \"Dominio\" com apenas o domínio do email (dica: separar por @)\n",
    "- Mudar o nome da coluna \"Salário\" para \"Renda\" e tratar a coluna (sem caracter $ e tipo numérica)\n",
    "- Mudar os dados da coluna \"Sexo\" para Masculino e Feminino (tente usar o map)\n",
    "- Transformar os dados da coluna Media em inteiro\n",
    "- Criar coluna \"NPS\" onde o investidor é promotor se a média das notas é maior igual a 80, neutro se a média estiver entre 50 e 80, e detrator se for abaixo de 50\n"
   ]
  },
  {
   "cell_type": "markdown",
   "id": "323137c1",
   "metadata": {},
   "source": [
    "As colunas `Ativo01` a `Ativo07` ocupam as posições de 11 a 17, portanto devemos somar essas colunas para obter o `Total`."
   ]
  },
  {
   "cell_type": "code",
   "execution_count": 41,
   "id": "0570d688",
   "metadata": {
    "ExecuteTime": {
     "end_time": "2023-04-14T01:24:30.927914Z",
     "start_time": "2023-04-14T01:24:30.730655Z"
    },
    "id": "0570d688"
   },
   "outputs": [],
   "source": [
    "# criando a coluna Total\n",
    "cad_invest['Total'] = cad_invest.loc[:,'Ativo01':'Ativo07'].sum(axis=1)"
   ]
  },
  {
   "cell_type": "code",
   "execution_count": 42,
   "id": "bf5ef8f2",
   "metadata": {
    "ExecuteTime": {
     "end_time": "2023-04-14T01:24:31.100920Z",
     "start_time": "2023-04-14T01:24:30.942888Z"
    }
   },
   "outputs": [],
   "source": [
    "# criando a coluna Media\n",
    "cad_invest['Media'] = cad_invest[['Nota1','Nota2']].mean(axis=1)"
   ]
  },
  {
   "cell_type": "code",
   "execution_count": 43,
   "id": "504a4357",
   "metadata": {
    "ExecuteTime": {
     "end_time": "2023-04-14T01:24:38.043191Z",
     "start_time": "2023-04-14T01:24:31.104907Z"
    }
   },
   "outputs": [],
   "source": [
    "# criando a coluna Dominio\n",
    "cad_invest['Dominio'] = cad_invest.Email.apply(lambda x: pd.Series(str(x).split(\"@\")))[1]"
   ]
  },
  {
   "cell_type": "code",
   "execution_count": 44,
   "id": "88f391e0",
   "metadata": {
    "ExecuteTime": {
     "end_time": "2023-04-14T01:24:38.090985Z",
     "start_time": "2023-04-14T01:24:38.046814Z"
    }
   },
   "outputs": [],
   "source": [
    "# Renomeando colunas do DataFrame\n",
    "cad_invest = cad_invest.rename(columns = {'Salario': 'Renda'})"
   ]
  },
  {
   "cell_type": "markdown",
   "id": "be22ce2c",
   "metadata": {
    "ExecuteTime": {
     "end_time": "2023-03-30T03:21:42.276548Z",
     "start_time": "2023-03-30T03:21:42.252500Z"
    }
   },
   "source": [
    "A coluna `Renda` está sendo considerada `string`, vamos eliminar o símbolo `$` e transformar para número."
   ]
  },
  {
   "cell_type": "code",
   "execution_count": 45,
   "id": "0256aea8",
   "metadata": {
    "ExecuteTime": {
     "end_time": "2023-04-14T01:24:45.291698Z",
     "start_time": "2023-04-14T01:24:38.094777Z"
    }
   },
   "outputs": [],
   "source": [
    "# sobreescrevendo a coluna Renda\n",
    "cad_invest['Renda'] = cad_invest.Renda.apply(lambda x: pd.Series(str(x).split(\"$\")))[1]\n",
    "\n",
    "# tranformando para representação numérica\n",
    "cad_invest['Renda'] = cad_invest['Renda'].astype('float')"
   ]
  },
  {
   "cell_type": "code",
   "execution_count": 46,
   "id": "08a795bf",
   "metadata": {
    "ExecuteTime": {
     "end_time": "2023-04-14T01:24:45.323386Z",
     "start_time": "2023-04-14T01:24:45.295458Z"
    }
   },
   "outputs": [],
   "source": [
    "# transformando Fem em Feminimo e Masc em Masculino\n",
    "cad_invest['Sexo'] = cad_invest['Sexo'].map({'Fem':'Feminino', 'Masc':'Masculino'})"
   ]
  },
  {
   "cell_type": "code",
   "execution_count": 47,
   "id": "8870d8aa",
   "metadata": {
    "ExecuteTime": {
     "end_time": "2023-04-14T01:24:45.447748Z",
     "start_time": "2023-04-14T01:24:45.329469Z"
    }
   },
   "outputs": [],
   "source": [
    "# transformando a coluna Media em tipo inteiro+\n",
    "cad_invest['Media'] = cad_invest['Media'].astype('int')"
   ]
  },
  {
   "cell_type": "code",
   "execution_count": 48,
   "id": "2ff89194",
   "metadata": {
    "ExecuteTime": {
     "end_time": "2023-04-14T01:24:45.589961Z",
     "start_time": "2023-04-14T01:24:45.459709Z"
    }
   },
   "outputs": [],
   "source": [
    "# importando numpy\n",
    "import numpy as np\n",
    "\n",
    "# criando condições que serão usadas para criar a coluna NPS\n",
    "condicoes = [\n",
    "    cad_invest['Media'] < 50,\n",
    "    (cad_invest['Media'] >= 50) & (cad_invest['Media'] < 80),\n",
    "    cad_invest['Media'] >= 80\n",
    "]\n",
    "\n",
    "# criando a lista de valores que irá compor a coluna NPS com base nas condiçoes\n",
    "valores = ['detrator','neutro','promotor']\n",
    "\n",
    "# criando a coluna NPS\n",
    "cad_invest['NPS'] = np.select(condicoes, valores)"
   ]
  },
  {
   "cell_type": "markdown",
   "id": "eeca6bb1",
   "metadata": {
    "ExecuteTime": {
     "end_time": "2023-04-14T01:06:20.435296Z",
     "start_time": "2023-04-14T01:06:20.435296Z"
    }
   },
   "source": [
    "Também é possível criar uma função e usar apply.\n",
    "\n",
    "```\n",
    "def NPS(x):\n",
    "    if x >= 80:\n",
    "        return 'Promotor'\n",
    "    elif 50 < x < 80:\n",
    "        return 'Neutro'\n",
    "    else:\n",
    "        return 'Detrator'\n",
    "\n",
    "cad_invest['NPS'] = cad_invesst.Media.apply(NPS)\n",
    "```"
   ]
  },
  {
   "cell_type": "markdown",
   "id": "767fc018",
   "metadata": {
    "id": "767fc018"
   },
   "source": [
    "## 8 - Calcule os seguintes dados\n",
    "- Calcule o total investido em cada coluna Ativo (tente usar o apply)"
   ]
  },
  {
   "cell_type": "code",
   "execution_count": 49,
   "id": "992d886b",
   "metadata": {
    "ExecuteTime": {
     "end_time": "2023-04-14T01:24:45.653782Z",
     "start_time": "2023-04-14T01:24:45.604918Z"
    },
    "id": "992d886b"
   },
   "outputs": [
    {
     "data": {
      "text/plain": [
       "Ativo01    4.340843e+07\n",
       "Ativo02    1.992107e+08\n",
       "Ativo03    1.214303e+08\n",
       "Ativo04    5.743455e+08\n",
       "Ativo05    2.042502e+08\n",
       "Ativo06    8.895065e+07\n",
       "Ativo07    1.937903e+07\n",
       "dtype: float64"
      ]
     },
     "execution_count": 49,
     "metadata": {},
     "output_type": "execute_result"
    }
   ],
   "source": [
    "# calculando o total investido em cada coluna Ativo\n",
    "cad_invest.iloc[:,10:17].sum(axis=0)"
   ]
  },
  {
   "cell_type": "code",
   "execution_count": 50,
   "id": "2b20ca69",
   "metadata": {
    "ExecuteTime": {
     "end_time": "2023-04-14T01:24:45.780441Z",
     "start_time": "2023-04-14T01:24:45.657773Z"
    }
   },
   "outputs": [
    {
     "data": {
      "text/plain": [
       "Ativo01    4.340843e+07\n",
       "Ativo02    1.992107e+08\n",
       "Ativo03    1.214303e+08\n",
       "Ativo04    5.743455e+08\n",
       "Ativo05    2.042502e+08\n",
       "Ativo06    8.895065e+07\n",
       "Ativo07    1.937903e+07\n",
       "dtype: float64"
      ]
     },
     "execution_count": 50,
     "metadata": {},
     "output_type": "execute_result"
    }
   ],
   "source": [
    "# refazendo o exercício usando apply\n",
    "cad_invest.loc[:,'Ativo01':'Ativo07'].apply(np.sum)"
   ]
  },
  {
   "cell_type": "markdown",
   "id": "2694533b",
   "metadata": {},
   "source": [
    "Outra solução é:\n",
    "\n",
    "```\n",
    "cad_invest.loc[:,'Ativo01':'Ativo07'].sum(axis=0)\n",
    "```"
   ]
  },
  {
   "cell_type": "markdown",
   "id": "214a8872",
   "metadata": {},
   "source": [
    "- Qual o menor valor investido em cada ativo?"
   ]
  },
  {
   "cell_type": "code",
   "execution_count": 51,
   "id": "c889899d",
   "metadata": {
    "ExecuteTime": {
     "end_time": "2023-04-14T01:24:45.875187Z",
     "start_time": "2023-04-14T01:24:45.783436Z"
    }
   },
   "outputs": [
    {
     "data": {
      "text/plain": [
       "Ativo01     800.01\n",
       "Ativo02    4500.05\n",
       "Ativo03    2500.01\n",
       "Ativo04    5000.81\n",
       "Ativo05    4000.14\n",
       "Ativo06    2000.04\n",
       "Ativo07     462.93\n",
       "dtype: float64"
      ]
     },
     "execution_count": 51,
     "metadata": {},
     "output_type": "execute_result"
    }
   ],
   "source": [
    "# calculando o menor valor investido em cada ativo\n",
    "cad_invest.loc[:,'Ativo01':'Ativo07'].apply(np.min)"
   ]
  },
  {
   "cell_type": "markdown",
   "id": "8be2b727",
   "metadata": {},
   "source": [
    "- Mostre a média e desvio padrão de cada ativo"
   ]
  },
  {
   "cell_type": "code",
   "execution_count": 52,
   "id": "decf766e",
   "metadata": {
    "ExecuteTime": {
     "end_time": "2023-04-14T01:24:45.954017Z",
     "start_time": "2023-04-14T01:24:45.878182Z"
    }
   },
   "outputs": [
    {
     "data": {
      "text/plain": [
       "Ativo01     1120.101903\n",
       "Ativo02     5140.390651\n",
       "Ativo03     3133.360902\n",
       "Ativo04    14820.290640\n",
       "Ativo05     5270.429874\n",
       "Ativo06     2295.263747\n",
       "Ativo07      500.052452\n",
       "dtype: float64"
      ]
     },
     "execution_count": 52,
     "metadata": {},
     "output_type": "execute_result"
    }
   ],
   "source": [
    "# calculando a média de cada ativo\n",
    "cad_invest.loc[:,'Ativo01':'Ativo07'].apply(np.mean)"
   ]
  },
  {
   "cell_type": "code",
   "execution_count": 53,
   "id": "88e147c4",
   "metadata": {
    "ExecuteTime": {
     "end_time": "2023-04-14T01:24:46.048764Z",
     "start_time": "2023-04-14T01:24:45.956971Z"
    }
   },
   "outputs": [
    {
     "data": {
      "text/plain": [
       "Ativo01     189.921059\n",
       "Ativo02     366.300423\n",
       "Ativo03     363.211470\n",
       "Ativo04    5826.683120\n",
       "Ativo05     729.568350\n",
       "Ativo06     171.268787\n",
       "Ativo07       9.998089\n",
       "dtype: float64"
      ]
     },
     "execution_count": 53,
     "metadata": {},
     "output_type": "execute_result"
    }
   ],
   "source": [
    "# calculando o desvio padrao de cada ativo\n",
    "cad_invest.loc[:,'Ativo01':'Ativo07'].apply(np.std)"
   ]
  },
  {
   "cell_type": "markdown",
   "id": "b6ba83e2",
   "metadata": {},
   "source": [
    "Apesar de conseguirmos obter a média e o desvio padrão acima, pode ser mais interessante visualizar tudo junto, para isso vamos resolver o mesmo problema com a criação do DataFrame abaixo."
   ]
  },
  {
   "cell_type": "code",
   "execution_count": 54,
   "id": "9ea9431c",
   "metadata": {
    "ExecuteTime": {
     "end_time": "2023-04-14T01:24:46.256172Z",
     "start_time": "2023-04-14T01:24:46.052715Z"
    }
   },
   "outputs": [
    {
     "data": {
      "text/html": [
       "<div>\n",
       "<style scoped>\n",
       "    .dataframe tbody tr th:only-of-type {\n",
       "        vertical-align: middle;\n",
       "    }\n",
       "\n",
       "    .dataframe tbody tr th {\n",
       "        vertical-align: top;\n",
       "    }\n",
       "\n",
       "    .dataframe thead th {\n",
       "        text-align: right;\n",
       "    }\n",
       "</style>\n",
       "<table border=\"1\" class=\"dataframe\">\n",
       "  <thead>\n",
       "    <tr style=\"text-align: right;\">\n",
       "      <th></th>\n",
       "      <th>Ativo01</th>\n",
       "      <th>Ativo02</th>\n",
       "      <th>Ativo03</th>\n",
       "      <th>Ativo04</th>\n",
       "      <th>Ativo05</th>\n",
       "      <th>Ativo06</th>\n",
       "      <th>Ativo07</th>\n",
       "    </tr>\n",
       "  </thead>\n",
       "  <tbody>\n",
       "    <tr>\n",
       "      <th>media</th>\n",
       "      <td>1120.101903</td>\n",
       "      <td>5140.390651</td>\n",
       "      <td>3133.360902</td>\n",
       "      <td>14820.29064</td>\n",
       "      <td>5270.429874</td>\n",
       "      <td>2295.263747</td>\n",
       "      <td>500.052452</td>\n",
       "    </tr>\n",
       "    <tr>\n",
       "      <th>std</th>\n",
       "      <td>189.921059</td>\n",
       "      <td>366.300423</td>\n",
       "      <td>363.211470</td>\n",
       "      <td>5826.68312</td>\n",
       "      <td>729.568350</td>\n",
       "      <td>171.268787</td>\n",
       "      <td>9.998089</td>\n",
       "    </tr>\n",
       "  </tbody>\n",
       "</table>\n",
       "</div>"
      ],
      "text/plain": [
       "           Ativo01      Ativo02      Ativo03      Ativo04      Ativo05  \\\n",
       "media  1120.101903  5140.390651  3133.360902  14820.29064  5270.429874   \n",
       "std     189.921059   366.300423   363.211470   5826.68312   729.568350   \n",
       "\n",
       "           Ativo06     Ativo07  \n",
       "media  2295.263747  500.052452  \n",
       "std     171.268787    9.998089  "
      ]
     },
     "execution_count": 54,
     "metadata": {},
     "output_type": "execute_result"
    }
   ],
   "source": [
    "medias = cad_invest.loc[:,'Ativo01':'Ativo07'].apply(np.mean)\n",
    "stds = cad_invest.loc[:,'Ativo01':'Ativo07'].apply(np.std)\n",
    "\n",
    "ativos = pd.DataFrame([medias, stds],\n",
    "                     index=['media','std'])\n",
    "ativos"
   ]
  },
  {
   "cell_type": "markdown",
   "id": "ec958507",
   "metadata": {},
   "source": [
    "- Qual a idade do investidor mais velho?"
   ]
  },
  {
   "cell_type": "markdown",
   "id": "caf3add3",
   "metadata": {
    "ExecuteTime": {
     "end_time": "2023-03-30T03:41:37.225578Z",
     "start_time": "2023-03-30T03:41:37.202638Z"
    }
   },
   "source": [
    "Podemos obter a idade do investidor mais velho ao calcular o máximo da coluna `Idade.`"
   ]
  },
  {
   "cell_type": "code",
   "execution_count": 55,
   "id": "ef96896e",
   "metadata": {
    "ExecuteTime": {
     "end_time": "2023-04-14T01:24:46.554372Z",
     "start_time": "2023-04-14T01:24:46.263153Z"
    }
   },
   "outputs": [
    {
     "name": "stdout",
     "output_type": "stream",
     "text": [
      "O investidor mais velhor tem 51 anos.\n"
     ]
    }
   ],
   "source": [
    "print(f\"O investidor mais velhor tem {cad_invest['Idade'].max()} anos.\")"
   ]
  },
  {
   "cell_type": "markdown",
   "id": "2545c0c0",
   "metadata": {},
   "source": [
    "- Qual a mediana da coluna Média?"
   ]
  },
  {
   "cell_type": "code",
   "execution_count": 56,
   "id": "43ab993d",
   "metadata": {
    "ExecuteTime": {
     "end_time": "2023-04-14T01:24:46.758825Z",
     "start_time": "2023-04-14T01:24:46.558362Z"
    }
   },
   "outputs": [
    {
     "name": "stdout",
     "output_type": "stream",
     "text": [
      "A mediana da coluna Media é 49.0\n"
     ]
    }
   ],
   "source": [
    "# calculando a mediana da coluna Media\n",
    "print(f\"A mediana da coluna Media é {cad_invest['Media'].median()}\")"
   ]
  },
  {
   "cell_type": "markdown",
   "id": "0f074caf",
   "metadata": {
    "id": "0f074caf"
   },
   "source": [
    "## 9 - Responder as perguntas abaixo\n",
    "\n",
    "- Quantos investidores são promotores?"
   ]
  },
  {
   "cell_type": "code",
   "execution_count": 57,
   "id": "G6L0Qjjgyz1L",
   "metadata": {
    "ExecuteTime": {
     "end_time": "2023-04-14T01:24:46.964787Z",
     "start_time": "2023-04-14T01:24:46.768807Z"
    },
    "id": "G6L0Qjjgyz1L"
   },
   "outputs": [
    {
     "name": "stdout",
     "output_type": "stream",
     "text": [
      "Há 2703 promotores\n"
     ]
    }
   ],
   "source": [
    "# para obter o número de promotores basta comparar a coluna NPS com promotor e fazer a soma\n",
    "promotores = (cad_invest['NPS'] == 'promotor').sum()\n",
    "print(f\"Há {promotores} promotores\")"
   ]
  },
  {
   "cell_type": "markdown",
   "id": "35aa70a3",
   "metadata": {},
   "source": [
    "- Quantos investidores são do sexo feminino?"
   ]
  },
  {
   "cell_type": "code",
   "execution_count": 58,
   "id": "a748d753",
   "metadata": {
    "ExecuteTime": {
     "end_time": "2023-04-14T01:24:47.076488Z",
     "start_time": "2023-04-14T01:24:46.968776Z"
    }
   },
   "outputs": [
    {
     "name": "stdout",
     "output_type": "stream",
     "text": [
      "Há 19385 investidores do sexo feminino.\n"
     ]
    }
   ],
   "source": [
    "# para obter o número de mulheres basta comparar a coluna Sexo com Feminino e fazer a soma\n",
    "mulheres = (cad_invest['Sexo'] == 'Feminino').sum()\n",
    "print(f\"Há {mulheres} investidores do sexo feminino.\")"
   ]
  },
  {
   "cell_type": "markdown",
   "id": "7c377299",
   "metadata": {},
   "source": [
    "- Quantos investidores investiram mais de 16000 no Ativo04?"
   ]
  },
  {
   "cell_type": "code",
   "execution_count": 59,
   "id": "5be3e3f8",
   "metadata": {
    "ExecuteTime": {
     "end_time": "2023-04-14T01:24:47.232072Z",
     "start_time": "2023-04-14T01:24:47.083469Z"
    }
   },
   "outputs": [
    {
     "name": "stdout",
     "output_type": "stream",
     "text": [
      "Há 10689 investidores que investiram mais de 16.000 no Ativo04\n"
     ]
    }
   ],
   "source": [
    "ativo04_mais_16mil = (cad_invest['Ativo04'] > 16000).sum()\n",
    "print(f\"Há {ativo04_mais_16mil} investidores que investiram mais de 16.000 no Ativo04\")"
   ]
  },
  {
   "cell_type": "markdown",
   "id": "fc2173ef",
   "metadata": {},
   "source": [
    "- Quantos investidores investiram mais de 16000 no Ativo04 e menos de 5000 no Ativo05?"
   ]
  },
  {
   "cell_type": "code",
   "execution_count": 60,
   "id": "8bbd304e",
   "metadata": {
    "ExecuteTime": {
     "end_time": "2023-04-14T01:24:47.359701Z",
     "start_time": "2023-04-14T01:24:47.236063Z"
    }
   },
   "outputs": [
    {
     "name": "stdout",
     "output_type": "stream",
     "text": [
      "Há 3684 investidores que investiram mais de 16.000 no Ativo04 e menos de 5.000 no Ativo05\n"
     ]
    }
   ],
   "source": [
    "\n",
    "ativo04_mais_16mil = cad_invest[cad_invest['Ativo04'] > 16000]\n",
    "resp = (ativo04_mais_16mil['Ativo05'] < 5000).sum()\n",
    "print(f\"Há {resp} investidores que investiram mais de 16.000 no Ativo04 e menos de 5.000 no Ativo05\")"
   ]
  },
  {
   "cell_type": "markdown",
   "id": "56f0cea2",
   "metadata": {},
   "source": [
    "- Quantos investidores do sexo feminino tem mais de 25 anos e investiu menos de 10000? (bonus: por que esse dado seria importante para a estratégia da nossa empresa?"
   ]
  },
  {
   "cell_type": "code",
   "execution_count": 61,
   "id": "999243ca",
   "metadata": {
    "ExecuteTime": {
     "end_time": "2023-04-14T01:24:47.423527Z",
     "start_time": "2023-04-14T01:24:47.364648Z"
    }
   },
   "outputs": [
    {
     "name": "stdout",
     "output_type": "stream",
     "text": [
      "Há 0 mulheres com mais de 25 anos que investiram menos de 10000.\n"
     ]
    }
   ],
   "source": [
    "# criando um dataframe auxiliar\n",
    "df = cad_invest[['Sexo','Idade','Total']]\n",
    "\n",
    "# selecionando apenas sexo feminino\n",
    "df_fem = df[df['Sexo'] == 'Feminino']\n",
    "\n",
    "# selecionando apenas maiores de 25 anos\n",
    "df_fem_mais25 = df_fem[df_fem['Idade'] > 25]\n",
    "df_fem_mais25\n",
    "\n",
    "# selecionando apenas as mulheres com mais de 25 ano que investiram menos de 10000\n",
    "df_final = df_fem_mais25[df_fem_mais25['Total'] < 10000]\n",
    "\n",
    "print(f\"Há {df_final.shape[0]} mulheres com mais de 25 anos que investiram menos de 10000.\")"
   ]
  },
  {
   "cell_type": "markdown",
   "id": "535e1873",
   "metadata": {},
   "source": [
    "Outra solução é:\n",
    "\n",
    "```\n",
    "cad_invest[(cad_invest.Sexo == 'Feminino') & (cad_invest.Idade > 25) & (cad_invest.Total < 10000)].shape[0]\n",
    "```"
   ]
  },
  {
   "cell_type": "markdown",
   "id": "a98d0eb9",
   "metadata": {},
   "source": [
    "Vamos tentar entender porque não há nenhuma mulher com mais de 25 anos que investiu menos de 10000."
   ]
  },
  {
   "cell_type": "code",
   "execution_count": 62,
   "id": "c1913599",
   "metadata": {
    "ExecuteTime": {
     "end_time": "2023-04-14T01:24:47.518333Z",
     "start_time": "2023-04-14T01:24:47.427588Z"
    }
   },
   "outputs": [
    {
     "data": {
      "text/plain": [
       "count    38754.000000\n",
       "mean     32279.890167\n",
       "std       5900.571503\n",
       "min      20301.360000\n",
       "25%      29037.706250\n",
       "50%      31474.282500\n",
       "75%      34293.440000\n",
       "max      65745.205000\n",
       "Name: Total, dtype: float64"
      ]
     },
     "execution_count": 62,
     "metadata": {},
     "output_type": "execute_result"
    }
   ],
   "source": [
    "# calculando estatísticas descritivas para o Total\n",
    "cad_invest['Total'].describe()"
   ]
  },
  {
   "cell_type": "markdown",
   "id": "7ca1635b",
   "metadata": {
    "ExecuteTime": {
     "end_time": "2023-03-31T17:53:52.313100Z",
     "start_time": "2023-03-31T17:53:52.273206Z"
    }
   },
   "source": [
    "Podemos ver que o valor mínimo para a coluna `Total` foi de cerca de 20301, isto é, nenhuma pessoa investiu menos de 10000, nem mulher nem homem. É claro que esse resultado depende dos valores que usamos para preencher os dados faltantes. Se tivessemos preenchido com zero, o resultado possivelmente seria diferente."
   ]
  },
  {
   "cell_type": "code",
   "execution_count": 63,
   "id": "c17e98d7",
   "metadata": {
    "ExecuteTime": {
     "end_time": "2023-04-14T01:24:48.371547Z",
     "start_time": "2023-04-14T01:24:47.522322Z"
    }
   },
   "outputs": [
    {
     "data": {
      "image/png": "[encoded data removed]",
      "text/plain": [
       "<Figure size 640x480 with 1 Axes>"
      ]
     },
     "metadata": {},
     "output_type": "display_data"
    }
   ],
   "source": [
    "sns.histplot(x=cad_invest['Total']);"
   ]
  },
  {
   "cell_type": "markdown",
   "id": "4e3bbfb0",
   "metadata": {},
   "source": [
    "- Quantos investidores tem em cada estado (dica: use groupby)"
   ]
  },
  {
   "cell_type": "code",
   "execution_count": 64,
   "id": "41750d0f",
   "metadata": {
    "ExecuteTime": {
     "end_time": "2023-04-14T01:24:48.450958Z",
     "start_time": "2023-04-14T01:24:48.374163Z"
    }
   },
   "outputs": [
    {
     "data": {
      "text/html": [
       "<div>\n",
       "<style scoped>\n",
       "    .dataframe tbody tr th:only-of-type {\n",
       "        vertical-align: middle;\n",
       "    }\n",
       "\n",
       "    .dataframe tbody tr th {\n",
       "        vertical-align: top;\n",
       "    }\n",
       "\n",
       "    .dataframe thead th {\n",
       "        text-align: right;\n",
       "    }\n",
       "</style>\n",
       "<table border=\"1\" class=\"dataframe\">\n",
       "  <thead>\n",
       "    <tr style=\"text-align: right;\">\n",
       "      <th></th>\n",
       "      <th>Estado</th>\n",
       "      <th>Idade</th>\n",
       "    </tr>\n",
       "  </thead>\n",
       "  <tbody>\n",
       "    <tr>\n",
       "      <th>0</th>\n",
       "      <td>AC</td>\n",
       "      <td>1435</td>\n",
       "    </tr>\n",
       "    <tr>\n",
       "      <th>1</th>\n",
       "      <td>AL</td>\n",
       "      <td>1376</td>\n",
       "    </tr>\n",
       "    <tr>\n",
       "      <th>2</th>\n",
       "      <td>AM</td>\n",
       "      <td>1495</td>\n",
       "    </tr>\n",
       "    <tr>\n",
       "      <th>3</th>\n",
       "      <td>AP</td>\n",
       "      <td>1438</td>\n",
       "    </tr>\n",
       "    <tr>\n",
       "      <th>4</th>\n",
       "      <td>BA</td>\n",
       "      <td>1484</td>\n",
       "    </tr>\n",
       "    <tr>\n",
       "      <th>5</th>\n",
       "      <td>CE</td>\n",
       "      <td>1465</td>\n",
       "    </tr>\n",
       "    <tr>\n",
       "      <th>6</th>\n",
       "      <td>DF</td>\n",
       "      <td>1470</td>\n",
       "    </tr>\n",
       "    <tr>\n",
       "      <th>7</th>\n",
       "      <td>ES</td>\n",
       "      <td>1472</td>\n",
       "    </tr>\n",
       "    <tr>\n",
       "      <th>8</th>\n",
       "      <td>GO</td>\n",
       "      <td>1394</td>\n",
       "    </tr>\n",
       "    <tr>\n",
       "      <th>9</th>\n",
       "      <td>MA</td>\n",
       "      <td>1454</td>\n",
       "    </tr>\n",
       "    <tr>\n",
       "      <th>10</th>\n",
       "      <td>MG</td>\n",
       "      <td>1407</td>\n",
       "    </tr>\n",
       "    <tr>\n",
       "      <th>11</th>\n",
       "      <td>MS</td>\n",
       "      <td>1436</td>\n",
       "    </tr>\n",
       "    <tr>\n",
       "      <th>12</th>\n",
       "      <td>MT</td>\n",
       "      <td>1390</td>\n",
       "    </tr>\n",
       "    <tr>\n",
       "      <th>13</th>\n",
       "      <td>PA</td>\n",
       "      <td>1421</td>\n",
       "    </tr>\n",
       "    <tr>\n",
       "      <th>14</th>\n",
       "      <td>PB</td>\n",
       "      <td>1405</td>\n",
       "    </tr>\n",
       "    <tr>\n",
       "      <th>15</th>\n",
       "      <td>PE</td>\n",
       "      <td>1477</td>\n",
       "    </tr>\n",
       "    <tr>\n",
       "      <th>16</th>\n",
       "      <td>PI</td>\n",
       "      <td>1503</td>\n",
       "    </tr>\n",
       "    <tr>\n",
       "      <th>17</th>\n",
       "      <td>PR</td>\n",
       "      <td>1371</td>\n",
       "    </tr>\n",
       "    <tr>\n",
       "      <th>18</th>\n",
       "      <td>RJ</td>\n",
       "      <td>1466</td>\n",
       "    </tr>\n",
       "    <tr>\n",
       "      <th>19</th>\n",
       "      <td>RN</td>\n",
       "      <td>1472</td>\n",
       "    </tr>\n",
       "    <tr>\n",
       "      <th>20</th>\n",
       "      <td>RO</td>\n",
       "      <td>1440</td>\n",
       "    </tr>\n",
       "    <tr>\n",
       "      <th>21</th>\n",
       "      <td>RR</td>\n",
       "      <td>1495</td>\n",
       "    </tr>\n",
       "    <tr>\n",
       "      <th>22</th>\n",
       "      <td>RS</td>\n",
       "      <td>1393</td>\n",
       "    </tr>\n",
       "    <tr>\n",
       "      <th>23</th>\n",
       "      <td>SC</td>\n",
       "      <td>1430</td>\n",
       "    </tr>\n",
       "    <tr>\n",
       "      <th>24</th>\n",
       "      <td>SE</td>\n",
       "      <td>1319</td>\n",
       "    </tr>\n",
       "    <tr>\n",
       "      <th>25</th>\n",
       "      <td>SP</td>\n",
       "      <td>1464</td>\n",
       "    </tr>\n",
       "    <tr>\n",
       "      <th>26</th>\n",
       "      <td>TO</td>\n",
       "      <td>1382</td>\n",
       "    </tr>\n",
       "  </tbody>\n",
       "</table>\n",
       "</div>"
      ],
      "text/plain": [
       "   Estado  Idade\n",
       "0      AC   1435\n",
       "1      AL   1376\n",
       "2      AM   1495\n",
       "3      AP   1438\n",
       "4      BA   1484\n",
       "5      CE   1465\n",
       "6      DF   1470\n",
       "7      ES   1472\n",
       "8      GO   1394\n",
       "9      MA   1454\n",
       "10     MG   1407\n",
       "11     MS   1436\n",
       "12     MT   1390\n",
       "13     PA   1421\n",
       "14     PB   1405\n",
       "15     PE   1477\n",
       "16     PI   1503\n",
       "17     PR   1371\n",
       "18     RJ   1466\n",
       "19     RN   1472\n",
       "20     RO   1440\n",
       "21     RR   1495\n",
       "22     RS   1393\n",
       "23     SC   1430\n",
       "24     SE   1319\n",
       "25     SP   1464\n",
       "26     TO   1382"
      ]
     },
     "execution_count": 64,
     "metadata": {},
     "output_type": "execute_result"
    }
   ],
   "source": [
    "# calculando a quantidade de investidores por estado\n",
    "cad_invest[['Estado','Idade']].groupby('Estado').count().reset_index()"
   ]
  },
  {
   "cell_type": "markdown",
   "id": "3ec80802",
   "metadata": {},
   "source": [
    "- Qual é a soma do total investido por cada estado?"
   ]
  },
  {
   "cell_type": "code",
   "execution_count": 65,
   "id": "c9eb077e",
   "metadata": {
    "ExecuteTime": {
     "end_time": "2023-04-14T01:24:48.548696Z",
     "start_time": "2023-04-14T01:24:48.454947Z"
    }
   },
   "outputs": [
    {
     "data": {
      "text/html": [
       "<div>\n",
       "<style scoped>\n",
       "    .dataframe tbody tr th:only-of-type {\n",
       "        vertical-align: middle;\n",
       "    }\n",
       "\n",
       "    .dataframe tbody tr th {\n",
       "        vertical-align: top;\n",
       "    }\n",
       "\n",
       "    .dataframe thead th {\n",
       "        text-align: right;\n",
       "    }\n",
       "</style>\n",
       "<table border=\"1\" class=\"dataframe\">\n",
       "  <thead>\n",
       "    <tr style=\"text-align: right;\">\n",
       "      <th></th>\n",
       "      <th>Estado</th>\n",
       "      <th>Total</th>\n",
       "    </tr>\n",
       "  </thead>\n",
       "  <tbody>\n",
       "    <tr>\n",
       "      <th>0</th>\n",
       "      <td>AC</td>\n",
       "      <td>4.621242e+07</td>\n",
       "    </tr>\n",
       "    <tr>\n",
       "      <th>1</th>\n",
       "      <td>AL</td>\n",
       "      <td>4.448490e+07</td>\n",
       "    </tr>\n",
       "    <tr>\n",
       "      <th>2</th>\n",
       "      <td>AM</td>\n",
       "      <td>4.830935e+07</td>\n",
       "    </tr>\n",
       "    <tr>\n",
       "      <th>3</th>\n",
       "      <td>AP</td>\n",
       "      <td>4.646031e+07</td>\n",
       "    </tr>\n",
       "    <tr>\n",
       "      <th>4</th>\n",
       "      <td>BA</td>\n",
       "      <td>4.765755e+07</td>\n",
       "    </tr>\n",
       "    <tr>\n",
       "      <th>5</th>\n",
       "      <td>CE</td>\n",
       "      <td>4.723306e+07</td>\n",
       "    </tr>\n",
       "    <tr>\n",
       "      <th>6</th>\n",
       "      <td>DF</td>\n",
       "      <td>4.785425e+07</td>\n",
       "    </tr>\n",
       "    <tr>\n",
       "      <th>7</th>\n",
       "      <td>ES</td>\n",
       "      <td>4.745191e+07</td>\n",
       "    </tr>\n",
       "    <tr>\n",
       "      <th>8</th>\n",
       "      <td>GO</td>\n",
       "      <td>4.537942e+07</td>\n",
       "    </tr>\n",
       "    <tr>\n",
       "      <th>9</th>\n",
       "      <td>MA</td>\n",
       "      <td>4.667423e+07</td>\n",
       "    </tr>\n",
       "    <tr>\n",
       "      <th>10</th>\n",
       "      <td>MG</td>\n",
       "      <td>4.510824e+07</td>\n",
       "    </tr>\n",
       "    <tr>\n",
       "      <th>11</th>\n",
       "      <td>MS</td>\n",
       "      <td>4.663413e+07</td>\n",
       "    </tr>\n",
       "    <tr>\n",
       "      <th>12</th>\n",
       "      <td>MT</td>\n",
       "      <td>4.516642e+07</td>\n",
       "    </tr>\n",
       "    <tr>\n",
       "      <th>13</th>\n",
       "      <td>PA</td>\n",
       "      <td>4.602657e+07</td>\n",
       "    </tr>\n",
       "    <tr>\n",
       "      <th>14</th>\n",
       "      <td>PB</td>\n",
       "      <td>4.550015e+07</td>\n",
       "    </tr>\n",
       "    <tr>\n",
       "      <th>15</th>\n",
       "      <td>PE</td>\n",
       "      <td>4.726343e+07</td>\n",
       "    </tr>\n",
       "    <tr>\n",
       "      <th>16</th>\n",
       "      <td>PI</td>\n",
       "      <td>4.871081e+07</td>\n",
       "    </tr>\n",
       "    <tr>\n",
       "      <th>17</th>\n",
       "      <td>PR</td>\n",
       "      <td>4.409639e+07</td>\n",
       "    </tr>\n",
       "    <tr>\n",
       "      <th>18</th>\n",
       "      <td>RJ</td>\n",
       "      <td>4.753501e+07</td>\n",
       "    </tr>\n",
       "    <tr>\n",
       "      <th>19</th>\n",
       "      <td>RN</td>\n",
       "      <td>4.747700e+07</td>\n",
       "    </tr>\n",
       "    <tr>\n",
       "      <th>20</th>\n",
       "      <td>RO</td>\n",
       "      <td>4.609218e+07</td>\n",
       "    </tr>\n",
       "    <tr>\n",
       "      <th>21</th>\n",
       "      <td>RR</td>\n",
       "      <td>4.822605e+07</td>\n",
       "    </tr>\n",
       "    <tr>\n",
       "      <th>22</th>\n",
       "      <td>RS</td>\n",
       "      <td>4.483678e+07</td>\n",
       "    </tr>\n",
       "    <tr>\n",
       "      <th>23</th>\n",
       "      <td>SC</td>\n",
       "      <td>4.618706e+07</td>\n",
       "    </tr>\n",
       "    <tr>\n",
       "      <th>24</th>\n",
       "      <td>SE</td>\n",
       "      <td>4.285826e+07</td>\n",
       "    </tr>\n",
       "    <tr>\n",
       "      <th>25</th>\n",
       "      <td>SP</td>\n",
       "      <td>4.693868e+07</td>\n",
       "    </tr>\n",
       "    <tr>\n",
       "      <th>26</th>\n",
       "      <td>TO</td>\n",
       "      <td>4.460028e+07</td>\n",
       "    </tr>\n",
       "  </tbody>\n",
       "</table>\n",
       "</div>"
      ],
      "text/plain": [
       "   Estado         Total\n",
       "0      AC  4.621242e+07\n",
       "1      AL  4.448490e+07\n",
       "2      AM  4.830935e+07\n",
       "3      AP  4.646031e+07\n",
       "4      BA  4.765755e+07\n",
       "5      CE  4.723306e+07\n",
       "6      DF  4.785425e+07\n",
       "7      ES  4.745191e+07\n",
       "8      GO  4.537942e+07\n",
       "9      MA  4.667423e+07\n",
       "10     MG  4.510824e+07\n",
       "11     MS  4.663413e+07\n",
       "12     MT  4.516642e+07\n",
       "13     PA  4.602657e+07\n",
       "14     PB  4.550015e+07\n",
       "15     PE  4.726343e+07\n",
       "16     PI  4.871081e+07\n",
       "17     PR  4.409639e+07\n",
       "18     RJ  4.753501e+07\n",
       "19     RN  4.747700e+07\n",
       "20     RO  4.609218e+07\n",
       "21     RR  4.822605e+07\n",
       "22     RS  4.483678e+07\n",
       "23     SC  4.618706e+07\n",
       "24     SE  4.285826e+07\n",
       "25     SP  4.693868e+07\n",
       "26     TO  4.460028e+07"
      ]
     },
     "execution_count": 65,
     "metadata": {},
     "output_type": "execute_result"
    }
   ],
   "source": [
    "# calculando a quantidade total investida por estado\n",
    "cad_invest[['Estado','Total']].groupby('Estado').sum().reset_index()"
   ]
  },
  {
   "cell_type": "markdown",
   "id": "9aff7c9e",
   "metadata": {},
   "source": [
    "Outra solução é:\n",
    "    \n",
    "```\n",
    "cad_invest.groupby('Estado').size()\n",
    "```"
   ]
  },
  {
   "cell_type": "markdown",
   "id": "0396263c",
   "metadata": {},
   "source": [
    "- Como os investidores se distribuem em promotores, detratores e neutros?"
   ]
  },
  {
   "cell_type": "code",
   "execution_count": 66,
   "id": "0fc17b84",
   "metadata": {
    "ExecuteTime": {
     "end_time": "2023-04-14T01:24:48.747240Z",
     "start_time": "2023-04-14T01:24:48.565651Z"
    }
   },
   "outputs": [
    {
     "data": {
      "text/html": [
       "<div>\n",
       "<style scoped>\n",
       "    .dataframe tbody tr th:only-of-type {\n",
       "        vertical-align: middle;\n",
       "    }\n",
       "\n",
       "    .dataframe tbody tr th {\n",
       "        vertical-align: top;\n",
       "    }\n",
       "\n",
       "    .dataframe thead th {\n",
       "        text-align: right;\n",
       "    }\n",
       "</style>\n",
       "<table border=\"1\" class=\"dataframe\">\n",
       "  <thead>\n",
       "    <tr style=\"text-align: right;\">\n",
       "      <th></th>\n",
       "      <th>NPS</th>\n",
       "      <th>total de investidores</th>\n",
       "      <th>total de investidores (em %)</th>\n",
       "    </tr>\n",
       "  </thead>\n",
       "  <tbody>\n",
       "    <tr>\n",
       "      <th>0</th>\n",
       "      <td>detrator</td>\n",
       "      <td>19617</td>\n",
       "      <td>50.619291</td>\n",
       "    </tr>\n",
       "    <tr>\n",
       "      <th>1</th>\n",
       "      <td>neutro</td>\n",
       "      <td>16434</td>\n",
       "      <td>42.405945</td>\n",
       "    </tr>\n",
       "    <tr>\n",
       "      <th>2</th>\n",
       "      <td>promotor</td>\n",
       "      <td>2703</td>\n",
       "      <td>6.974764</td>\n",
       "    </tr>\n",
       "  </tbody>\n",
       "</table>\n",
       "</div>"
      ],
      "text/plain": [
       "        NPS  total de investidores  total de investidores (em %)\n",
       "0  detrator                  19617                     50.619291\n",
       "1    neutro                  16434                     42.405945\n",
       "2  promotor                   2703                      6.974764"
      ]
     },
     "execution_count": 66,
     "metadata": {},
     "output_type": "execute_result"
    }
   ],
   "source": [
    "# selecionando apenas as colunas NPS e Idade (no lugar de Idade poderíamos considerar\n",
    "# qualquer outra, pois a função de agregação é a contagem) a grupando por NPS\n",
    "investidor_nps = cad_invest[['NPS','Idade']].groupby(['NPS']).count().reset_index()\n",
    "\n",
    "# renomeando as colunas para melhor visualização\n",
    "investidor_nps.columns = ['NPS', 'total de investidores']\n",
    "\n",
    "# calculando percentual de investidores por categoria\n",
    "investidor_nps['total de investidores (em %)'] = investidor_nps['total de investidores'] / cad_invest.shape[0] * 100\n",
    "investidor_nps"
   ]
  },
  {
   "cell_type": "markdown",
   "id": "d7f780e8",
   "metadata": {},
   "source": [
    "- Qual é a média do total investido por promotores, detratores e neutros?"
   ]
  },
  {
   "cell_type": "code",
   "execution_count": 67,
   "id": "3eb01bce",
   "metadata": {
    "ExecuteTime": {
     "end_time": "2023-04-14T01:24:48.937911Z",
     "start_time": "2023-04-14T01:24:48.750232Z"
    }
   },
   "outputs": [
    {
     "name": "stdout",
     "output_type": "stream",
     "text": [
      "A média do total investido por promotores é de aproximadamente 32175.85\n"
     ]
    }
   ],
   "source": [
    "# selecionand as colunas de interesse, filtrando pelo NPS escolhido e calculado a média\n",
    "promotores = cad_invest[['Total','NPS']][cad_invest['NPS'] == 'promotor']['Total'].mean()\n",
    "\n",
    "print(f\"A média do total investido por promotores é de aproximadamente {round(promotores,2)}\")"
   ]
  },
  {
   "cell_type": "code",
   "execution_count": 68,
   "id": "71cd42f7",
   "metadata": {
    "ExecuteTime": {
     "end_time": "2023-04-14T01:24:49.739789Z",
     "start_time": "2023-04-14T01:24:48.945892Z"
    }
   },
   "outputs": [
    {
     "data": {
      "image/png": "[encoded data removed]",
      "text/plain": [
       "<Figure size 640x480 with 1 Axes>"
      ]
     },
     "metadata": {},
     "output_type": "display_data"
    }
   ],
   "source": [
    "# histograma do total de investimento dos clientes classificados como promotores\n",
    "sns.histplot(x=cad_invest[['Total','NPS']][cad_invest['NPS'] == 'promotor']['Total']);"
   ]
  },
  {
   "cell_type": "code",
   "execution_count": 69,
   "id": "5795cced",
   "metadata": {
    "ExecuteTime": {
     "end_time": "2023-04-14T01:24:49.771398Z",
     "start_time": "2023-04-14T01:24:49.743478Z"
    }
   },
   "outputs": [
    {
     "name": "stdout",
     "output_type": "stream",
     "text": [
      "A média do total investido por promotores é de aproximadamente 32298.3\n"
     ]
    }
   ],
   "source": [
    "# selecionand as colunas de interesse, filtrando pelo NPS escolhido e calculado a média\n",
    "neutros = cad_invest[['Total','NPS']][cad_invest['NPS'] == 'neutro']['Total'].mean()\n",
    "\n",
    "print(f\"A média do total investido por promotores é de aproximadamente {round(neutros,2)}\")"
   ]
  },
  {
   "cell_type": "code",
   "execution_count": 70,
   "id": "8e3ed4b8",
   "metadata": {
    "ExecuteTime": {
     "end_time": "2023-04-14T01:24:50.403803Z",
     "start_time": "2023-04-14T01:24:49.774395Z"
    }
   },
   "outputs": [
    {
     "data": {
      "image/png": "[encoded data removed]",
      "text/plain": [
       "<Figure size 640x480 with 1 Axes>"
      ]
     },
     "metadata": {},
     "output_type": "display_data"
    }
   ],
   "source": [
    "# histograma do total de investimento dos clientes classificados como neutros\n",
    "sns.histplot(x=cad_invest[['Total','NPS']][cad_invest['NPS'] == 'neutro']['Total']);"
   ]
  },
  {
   "cell_type": "code",
   "execution_count": 71,
   "id": "a8db8b1a",
   "metadata": {
    "ExecuteTime": {
     "end_time": "2023-04-14T01:24:50.435361Z",
     "start_time": "2023-04-14T01:24:50.407357Z"
    }
   },
   "outputs": [
    {
     "name": "stdout",
     "output_type": "stream",
     "text": [
      "A média do total investido por promotores é de aproximadamente 32278.8\n"
     ]
    }
   ],
   "source": [
    "# selecionand as colunas de interesse, filtrando pelo NPS escolhido e calculado a média\n",
    "detratores = cad_invest[['Total','NPS']][cad_invest['NPS'] == 'detrator']['Total'].mean()\n",
    "\n",
    "print(f\"A média do total investido por promotores é de aproximadamente {round(detratores,2)}\")"
   ]
  },
  {
   "cell_type": "code",
   "execution_count": 72,
   "id": "05116dd9",
   "metadata": {
    "ExecuteTime": {
     "end_time": "2023-04-14T01:24:51.303267Z",
     "start_time": "2023-04-14T01:24:50.438397Z"
    }
   },
   "outputs": [
    {
     "data": {
      "image/png": "[encoded data removed]",
      "text/plain": [
       "<Figure size 640x480 with 1 Axes>"
      ]
     },
     "metadata": {},
     "output_type": "display_data"
    }
   ],
   "source": [
    "# histograma do total de investimento dos clientes classificados como detratores\n",
    "sns.histplot(x=cad_invest[['Total','NPS']][cad_invest['NPS'] == 'detrator']['Total']);"
   ]
  },
  {
   "cell_type": "markdown",
   "id": "6384dc31",
   "metadata": {
    "ExecuteTime": {
     "end_time": "2023-03-30T04:30:28.194553Z",
     "start_time": "2023-03-30T04:30:28.180625Z"
    }
   },
   "source": [
    "Aparentemente todos os grupos (promotores, neutros e detratores) apresentam um padrão similar em relação ao total investido."
   ]
  },
  {
   "cell_type": "code",
   "execution_count": null,
   "id": "82ce30a5",
   "metadata": {},
   "outputs": [],
   "source": []
  }
 ],
 "metadata": {
  "colab": {
   "provenance": []
  },
  "kernelspec": {
   "display_name": "Python 3 (ipykernel)",
   "language": "python",
   "name": "python3"
  },
  "language_info": {
   "codemirror_mode": {
    "name": "ipython",
    "version": 3
   },
   "file_extension": ".py",
   "mimetype": "text/x-python",
   "name": "python",
   "nbconvert_exporter": "python",
   "pygments_lexer": "ipython3",
   "version": "3.10.9"
  },
  "toc": {
   "base_numbering": 1,
   "nav_menu": {},
   "number_sections": true,
   "sideBar": true,
   "skip_h1_title": false,
   "title_cell": "Table of Contents",
   "title_sidebar": "Contents",
   "toc_cell": false,
   "toc_position": {},
   "toc_section_display": true,
   "toc_window_display": false
  },
  "varInspector": {
   "cols": {
    "lenName": 16,
    "lenType": 16,
    "lenVar": 40
   },
   "kernels_config": {
    "python": {
     "delete_cmd_postfix": "",
     "delete_cmd_prefix": "del ",
     "library": "var_list.py",
     "varRefreshCmd": "print(var_dic_list())"
    },
    "r": {
     "delete_cmd_postfix": ") ",
     "delete_cmd_prefix": "rm(",
     "library": "var_list.r",
     "varRefreshCmd": "cat(var_dic_list()) "
    }
   },
   "types_to_exclude": [
    "module",
    "function",
    "builtin_function_or_method",
    "instance",
    "_Feature"
   ],
   "window_display": false
  }
 },
 "nbformat": 4,
 "nbformat_minor": 5
}
